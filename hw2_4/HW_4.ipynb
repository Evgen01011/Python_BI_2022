{
 "cells": [
  {
   "cell_type": "markdown",
   "id": "807eeb67-c734-4bd7-87aa-573d1d55366d",
   "metadata": {},
   "source": [
    "В формулировке заданий будет использоваться понятие **worker**. Это слово обозначает какую-то единицу параллельного выполнения, в случае питона это может быть **поток** или **процесс**, выбирайте то, что лучше будет подходить к конкретной задаче\n",
    "\n",
    "В каждом задании нужно писать подробные аннотиции типов для:\n",
    "1. Аргументов функций и классов\n",
    "2. Возвращаемых значений\n",
    "3. Классовых атрибутов (если такие есть)\n",
    "\n",
    "В каждом задании нужно писать докстроки в определённом стиле (какой вам больше нравится) для всех функций, классов и методов"
   ]
  },
  {
   "attachments": {},
   "cell_type": "markdown",
   "id": "802d04a3",
   "metadata": {},
   "source": [
    "##### Докстроки пока быстро написал, постараюсь потом написать подробнее"
   ]
  },
  {
   "cell_type": "markdown",
   "id": "6d3b4f3a-f226-4ea4-a39f-dfb6e45bd983",
   "metadata": {},
   "source": [
    "# Задание 1 (7 баллов)"
   ]
  },
  {
   "cell_type": "markdown",
   "id": "ba5a5046-e619-4e55-8a36-f0e72f7f8d4a",
   "metadata": {},
   "source": [
    "В одном из заданий по ML от вас требовалось написать кастомную реализацию Random Forest. Её проблема состоит в том, что она работает медленно, так как использует всего один поток для работы. Добавление параллельного программирования в код позволит получить существенный прирост в скорости обучения и предсказаний.\n",
    "\n",
    "В данном задании от вас требуется добавить возможность обучать случайный лес параллельно и использовать параллелизм для предсказаний. Для этого вам понадобится:\n",
    "1. Добавить аргумент `n_jobs` в метод `fit`. `n_jobs` показывает количество worker'ов, используемых для распараллеливания\n",
    "2. Добавить аргумент `n_jobs` в методы `predict` и `predict_proba`\n",
    "3. Реализовать функционал по распараллеливанию в данных методах\n",
    "\n",
    "В результате код `random_forest.fit(X, y, n_jobs=2)` и `random_forest.predict(X, y, n_jobs=2)` должен работать в ~1.5-2 раза быстрее, чем `random_forest.fit(X, y, n_jobs=1)` и `random_forest.predict(X, y, n_jobs=1)` соответственно\n",
    "\n",
    "Если у вас по каким-то причинам нет кода случайного леса из ДЗ по ML, то вы можете написать его заново или попросить у однокурсника. *Детали* реализации ML части оцениваться не будут, НО, если вы поломаете логику работы алгоритма во время реализации параллелизма, то за это будут сниматься баллы\n",
    "\n",
    "В задании можно использовать только модули из **стандартной библиотеки** питона, а также функции и классы из **sklearn** при помощи которых вы изначально писали лес"
   ]
  },
  {
   "cell_type": "code",
   "execution_count": 228,
   "id": "a280c0a2-5272-49ed-a0a4-01cf3ea8251c",
   "metadata": {},
   "outputs": [],
   "source": [
    "from sklearn.base import BaseEstimator\n",
    "from sklearn.datasets import make_classification\n",
    "from sklearn.tree import DecisionTreeClassifier\n",
    "import numpy as np\n",
    "\n",
    "import multiprocessing\n",
    "import threading\n",
    "from concurrent.futures import ProcessPoolExecutor\n",
    "from concurrent.futures import ThreadPoolExecutor\n",
    "\n",
    "from typing import Type, Tuple, Any, Callable, Optional, Union, List, Dict\n",
    "\n",
    "\n",
    "SEED = 111"
   ]
  },
  {
   "cell_type": "markdown",
   "id": "360db4cb-b7c0-4ac1-843d-fdac11c5cbf6",
   "metadata": {},
   "source": [
    "Теперь с использованием запараллеливания"
   ]
  },
  {
   "cell_type": "code",
   "execution_count": 236,
   "id": "af9d8b2d-3b0f-4789-a5f3-dfad537c916e",
   "metadata": {},
   "outputs": [],
   "source": [
    "class RandomForestClassifierCustom(BaseEstimator):\n",
    "    \"\"\"\n",
    "    The class is a custom analog of RandomForestClassifier from sklearn\n",
    "\n",
    "    Attributes:\n",
    "        n_estimators: the number of trees in forest\n",
    "        max_depth: depth of decision trees\n",
    "        max_features: number of features that is taken into account in tree\n",
    "        random_state: control of random\n",
    "        \n",
    "    Methods:\n",
    "        fit(): fit training data\n",
    "        predict_proba(): predict probability of test data\n",
    "        predict(): predict classes of test data\n",
    "    \"\"\"\n",
    "\n",
    "    def __init__(self, n_estimators: int = 10, max_depth: int = None,\n",
    "                 max_features: int = None, random_state: int = SEED) -> None:\n",
    "        \"\"\"\n",
    "        Initializer of the class object\n",
    "        :param self: the class object\n",
    "        :param n_estimators: the number of trees in forest\n",
    "        :param max_depth: depth of decision trees\n",
    "        :param max_features: number of features that is taken into account in tree\n",
    "        :param random_state: control of random\n",
    "        :return: None\n",
    "        \"\"\"\n",
    "        self.n_estimators = n_estimators\n",
    "        self.max_depth = max_depth\n",
    "        self.max_features = max_features\n",
    "        self.random_state = random_state\n",
    "\n",
    "        self.trees = []\n",
    "        self.feat_ids_by_tree = []\n",
    "\n",
    "    def fit(self, X: np.ndarray, y: np.ndarray, n_jobs: int) -> None:\n",
    "        \"\"\"\n",
    "        Fit training data\n",
    "        :param self: the class object\n",
    "        :param X: the train features and their value\n",
    "        :param y: the train target\n",
    "        :param n_jobs: the number of thread\n",
    "        :return: None\n",
    "        \"\"\"\n",
    "        self.classes_ = sorted(np.unique(y))\n",
    "\n",
    "        def one_tree_function(self, X: np.ndarray, y: np.ndarray) -> DecisionTreeClassifier:\n",
    "            \"\"\"\n",
    "            Construction of one decision tree of forests\n",
    "            :param self: the class object\n",
    "            :param X: the test features and their value\n",
    "            :param y: the test target\n",
    "            :return: one tree of forests\n",
    "            \"\"\"\n",
    "            self.seed_fit = np.random.seed(self.random_state)\n",
    "            feature_amount = np.random.choice(X.shape[1], self.max_features, replace=False)\n",
    "            self.feat_ids_by_tree.append(feature_amount)\n",
    "            bootstrep_X = np.random.choice(X.shape[0], X.shape[0], replace=True)\n",
    "            random_X = X[bootstrep_X]\n",
    "            new_X = random_X[:, feature_amount]\n",
    "            new_y = y[bootstrep_X]\n",
    "\n",
    "            tree = DecisionTreeClassifier(max_depth=self.max_depth,\n",
    "                                          max_features=self.max_features,\n",
    "                                          random_state=self.seed_fit)\n",
    "\n",
    "            tree.fit(new_X, new_y)\n",
    "            return tree\n",
    "\n",
    "        # introduce parallel programming\n",
    "        with ThreadPoolExecutor(n_jobs) as pool:\n",
    "            self.trees = pool.map(one_tree_function, [self] * self.n_estimators,\n",
    "                                  [X] * self.n_estimators,\n",
    "                                  [y] * self.n_estimators)\n",
    "        return self\n",
    "\n",
    "    def predict_proba(self, X: np.ndarray, n_jobs: int) -> np.ndarray:\n",
    "        \"\"\"\n",
    "        Function of probability calculation of test data\n",
    "        :param self: the class object\n",
    "        :param X: the test features and their value\n",
    "        :param n_jobs: the number of thread\n",
    "        :return: the probability of an object belonging to the target class\n",
    "        \"\"\"\n",
    "        # introduce parallel programming\n",
    "        with ThreadPoolExecutor(n_jobs) as pool:\n",
    "            proba = pool.map(lambda x, X, i: x.predict_proba(X[:, self.feat_ids_by_tree[i]]), list(self.trees),\n",
    "                             [X] * self.n_estimators,\n",
    "                             list(range(self.n_estimators)))\n",
    "\n",
    "        result = np.mean(list(proba), axis=0)\n",
    "        return result\n",
    "\n",
    "    def predict(self, X: np.ndarray, n_jobs: int) -> np.ndarray:\n",
    "        \"\"\"\n",
    "        Function of prediction of test data object belonging\n",
    "        :param self:\n",
    "        :param X:\n",
    "        :param n_jobs:\n",
    "        :return:\n",
    "        \"\"\"\n",
    "        probas = self.predict_proba(X, n_jobs)\n",
    "        predictions = np.argmax(probas, axis=1)\n",
    "        return predictions"
   ]
  },
  {
   "cell_type": "code",
   "execution_count": 222,
   "id": "ab92dad8-3b3c-4faf-91e3-e88d57e17cf8",
   "metadata": {},
   "outputs": [],
   "source": [
    "random_forest = RandomForestClassifierCustom(max_depth=30, n_estimators=10, max_features=2, random_state=42)"
   ]
  },
  {
   "cell_type": "code",
   "execution_count": 225,
   "id": "da52383a-a403-4efc-95ab-fc1c93d56657",
   "metadata": {},
   "outputs": [
    {
     "name": "stdout",
     "output_type": "stream",
     "text": [
      "CPU times: total: 6.52 s\n",
      "Wall time: 6.87 s\n"
     ]
    }
   ],
   "source": [
    "%%time\n",
    "a = random_forest.fit(X, y, n_jobs=1)"
   ]
  },
  {
   "cell_type": "code",
   "execution_count": 301,
   "id": "6e6d4ef5-281b-45b7-8391-52de41f28f7d",
   "metadata": {},
   "outputs": [
    {
     "name": "stdout",
     "output_type": "stream",
     "text": [
      "CPU times: total: 328 ms\n",
      "Wall time: 461 ms\n"
     ]
    }
   ],
   "source": [
    "%%time\n",
    "\n",
    "preds_1 = random_forest.predict(X, n_jobs=1)"
   ]
  },
  {
   "cell_type": "code",
   "execution_count": 302,
   "id": "0690418d-4891-4f6e-a7d4-2e354ccb5274",
   "metadata": {},
   "outputs": [],
   "source": [
    "random_forest = RandomForestClassifierCustom(max_depth=30, n_estimators=10, max_features=2, random_state=42)"
   ]
  },
  {
   "cell_type": "code",
   "execution_count": 303,
   "id": "9b6b34e0-469c-4554-a887-cd73e8dffdac",
   "metadata": {},
   "outputs": [
    {
     "name": "stdout",
     "output_type": "stream",
     "text": [
      "CPU times: total: 7.67 s\n",
      "Wall time: 5.83 s\n"
     ]
    }
   ],
   "source": [
    "%%time\n",
    "\n",
    "_ = random_forest.fit(X, y, n_jobs=2)"
   ]
  },
  {
   "cell_type": "code",
   "execution_count": 304,
   "id": "6288ac49-42c2-4828-87a3-d788fb873f5e",
   "metadata": {},
   "outputs": [
    {
     "name": "stdout",
     "output_type": "stream",
     "text": [
      "CPU times: total: 234 ms\n",
      "Wall time: 273 ms\n"
     ]
    }
   ],
   "source": [
    "%%time\n",
    "\n",
    "preds_2 = random_forest.predict(X, n_jobs=2)"
   ]
  },
  {
   "cell_type": "code",
   "execution_count": 305,
   "id": "5193049b-bd85-455b-bb02-8cd811ad0d12",
   "metadata": {},
   "outputs": [
    {
     "data": {
      "text/plain": [
       "False"
      ]
     },
     "execution_count": 305,
     "metadata": {},
     "output_type": "execute_result"
    }
   ],
   "source": [
    "(preds_1 == preds_2).all()  # Количество worker'ов не должно влиять на предсказания"
   ]
  },
  {
   "cell_type": "code",
   "execution_count": 306,
   "id": "1e422411-f877-4682-8cfb-4d3b8e01ba1a",
   "metadata": {},
   "outputs": [
    {
     "data": {
      "text/plain": [
       "2"
      ]
     },
     "execution_count": 306,
     "metadata": {},
     "output_type": "execute_result"
    }
   ],
   "source": [
    "len(preds_1) - (preds_1 == preds_2).sum()"
   ]
  },
  {
   "cell_type": "markdown",
   "id": "15e1c9ea-1217-44cc-b461-7ef11e449916",
   "metadata": {},
   "source": [
    "Ускорить, действительно, получилось"
   ]
  },
  {
   "cell_type": "markdown",
   "id": "0a2ea6af-f73d-436a-94d9-f7310ac9a4e6",
   "metadata": {},
   "source": [
    "#### Какие есть недостатки у вашей реализации параллельного Random Forest (если они есть)? Как это можно исправить? Опишите словами, можно без кода (+1 дополнительный балл)"
   ]
  },
  {
   "cell_type": "markdown",
   "id": "19f2f04d-2c35-4d7d-a8fe-7f88d538fb79",
   "metadata": {},
   "source": [
    "Первое, у меня не совсем сошлись предсказания. С т.з. внедрения параллельности, это не должно влиять (насколько я могу судить), и вероятно ошибки связаны с тем, что в ходе программы несколько раз подбрасывается хоть и детерменированный, но рандом\n",
    "\n",
    "Второе, я выигрываю в человеческом времени, но, как и ожидалось, забиваю CPU. Наверно, в лучшем варианте, надо залезать внутрь класса дерева и запускать мультипроцессинг фитирования, чтобы действительно распараллелить процессы"
   ]
  },
  {
   "cell_type": "markdown",
   "id": "f020bb22-a29e-4e39-aba9-d41e79a80732",
   "metadata": {},
   "source": [
    "# Задание 2 (9 баллов)"
   ]
  },
  {
   "cell_type": "markdown",
   "id": "e3a8a0d2-f35b-4edb-9fb3-61da119255e9",
   "metadata": {
    "tags": []
   },
   "source": [
    "Напишите декоратор `memory_limit`, который позволит ограничивать использование памяти декорируемой функцией.\n",
    "\n",
    "Декоратор должен принимать следующие аргументы:\n",
    "1. `soft_limit` - \"мягкий\" лимит использования памяти. При превышении функцией этого лимита должен будет отображён **warning**\n",
    "2. `hard_limit` - \"жёсткий\" лимит использования памяти. При превышении функцией этого лимита должно будет брошено исключение, а функция должна немедленно завершить свою работу\n",
    "3. `poll_interval` - интервал времени (в секундах) между проверками использования памяти\n",
    "\n",
    "Требования:\n",
    "1. Потребление функцией памяти должно отслеживаться **во время выполнения функции**, а не после её завершения\n",
    "2. **warning** при превышении `soft_limit` должен отображаться один раз, даже если функция переходила через этот лимит несколько раз\n",
    "3. Если задать `soft_limit` или `hard_limit` как `None`, то соответствующий лимит должен быть отключён\n",
    "4. Лимиты должны передаваться и отображаться в формате `<number>X`, где `X` - символ, обозначающий порядок единицы измерения памяти (\"B\", \"K\", \"M\", \"G\", \"T\", ...)\n",
    "5. В тексте warning'ов и исключений должен быть указан текщий объём используемой памяти и величина превышенного лимита\n",
    "\n",
    "В задании можно использовать только модули из **стандартной библиотеки** питона, можно писать вспомогательные функции и/или классы\n",
    "\n",
    "В коде ниже для вас предопределены некоторые полезные функции, вы можете ими пользоваться, а можете не пользоваться"
   ]
  },
  {
   "cell_type": "code",
   "execution_count": 27,
   "id": "60981b47-e1c8-4b5f-8cfb-37bea032c0c6",
   "metadata": {
    "tags": []
   },
   "outputs": [],
   "source": [
    "import os\n",
    "import sys\n",
    "import psutil\n",
    "import time\n",
    "import warnings\n",
    "import threading"
   ]
  },
  {
   "cell_type": "code",
   "execution_count": 230,
   "id": "5f473f4a-b3da-443c-8864-481ffd60f10b",
   "metadata": {
    "tags": []
   },
   "outputs": [],
   "source": [
    "def get_memory_usage() -> int:    # Показывает текущее потребление памяти процессом\n",
    "    \"\"\"\n",
    "    Shows the current memory consumption of the process\n",
    "    \"\"\"\n",
    "    process = psutil.Process(os.getpid())\n",
    "    mem_info = process.memory_info()\n",
    "    return mem_info.rss\n",
    "\n",
    "\n",
    "def bytes_to_human_readable(n_bytes: int) -> str:\n",
    "    \"\"\"\n",
    "    Convert bytes to readable object\n",
    "    :param n_bytes: the number of bytes\n",
    "    :return: human adaptable number of bytes\n",
    "    \"\"\"\n",
    "    symbols = ('K', 'M', 'G', 'T', 'P', 'E', 'Z', 'Y')\n",
    "    prefix = {}\n",
    "    for idx, s in enumerate(symbols):\n",
    "        prefix[s] = 1 << (idx + 1) * 10\n",
    "    for s in reversed(symbols):\n",
    "        if n_bytes >= prefix[s]:\n",
    "            value = float(n_bytes) / prefix[s]\n",
    "            return f\"{value:.2f}{s}\"\n",
    "    return f\"{n_bytes}B\"\n",
    "\n",
    "def bytes_to_machine(n_bytes: str) -> int:\n",
    "    \"\"\"\n",
    "    Convert human readable object into computer bytes \n",
    "    :param n_bytes: the number of bytes\n",
    "    :return: computer number of bytes\n",
    "    \"\"\"    \n",
    "    symbols = ('K', 'M', 'G', 'T', 'P', 'E', 'Z', 'Y')\n",
    "    prefix = {}\n",
    "    for idx, s in enumerate(symbols):\n",
    "        prefix[s] = 1 << (idx + 1) * 10\n",
    "    prefix['B'] = 1\n",
    "    return prefix[n_bytes[-1]] * float(n_bytes[:-1])\n",
    "\n",
    "\n",
    "def memory_limit(soft_limit: str = None, hard_limit: str = None, poll_interval: int = 1) -> Callable:\n",
    "    \"\"\"\n",
    "    Restriction of memory consumption\n",
    "    :param soft_limit: lower limit for warning\n",
    "    :param hard_limit: upper limit for exception\n",
    "    :param poll_interval: delay of control\n",
    "    :return: decorating function\n",
    "    \"\"\"\n",
    "    def wrapper(func: Callable) -> Callable:\n",
    "        def inner_func(*args, **kwargs) -> Callable:\n",
    "            current_memory = get_memory_usage()   \n",
    "            \n",
    "            # check None of hard_limit\n",
    "            try:\n",
    "                strict_control = bytes_to_machine(hard_limit)\n",
    "            except TypeError:\n",
    "                strict_control = False\n",
    "            \n",
    "            # check None of soft_limit\n",
    "            try:\n",
    "                soft_control = bytes_to_machine(soft_limit)\n",
    "            except TypeError:\n",
    "                soft_control = False\n",
    "            \n",
    "            # run function in another thread \n",
    "            tread_for_function = threading.Thread(target = func, args=(*args,), kwargs={**kwargs,})\n",
    "            tread_for_function.start()\n",
    "            \n",
    "            while True:    \n",
    "                if strict_control and (current_memory > strict_control):   # check  hard_limit\n",
    "                    tread_for_function.join()                              # output of thread to the main area its interruption\n",
    "                    warnings.filterwarnings('default')                     # switch on warnings for other function\n",
    "                    raise Exception(f'Exception, hard limit({bytes_to_human_readable(strict_control)}) is exceed - {bytes_to_human_readable(current_memory)}')\n",
    "                if soft_control and (current_memory > soft_control):       # check soft_limit\n",
    "                    warnings.warn(f'Warning, soft limit({bytes_to_human_readable(soft_control)}) is exceed - {bytes_to_human_readable(current_memory)}')\n",
    "                    warnings.filterwarnings('ignore')                      # switch off warnings\n",
    "                    \n",
    "                time.sleep(poll_interval)\n",
    "                current_memory = get_memory_usage()\n",
    "                \n",
    "        return inner_func\n",
    "    return wrapper"
   ]
  },
  {
   "cell_type": "code",
   "execution_count": 25,
   "id": "ad51500f-2e8b-4e82-8248-197458cbed62",
   "metadata": {},
   "outputs": [
    {
     "name": "stderr",
     "output_type": "stream",
     "text": [
      "C:\\Users\\ornfi\\AppData\\Local\\Temp\\ipykernel_14416\\895793322.py:51: UserWarning: Warning, soft limit(150.00M) is exceed - 157.36M\n",
      "  warnings.warn(f'Warning, soft limit({bytes_to_human_readable(soft_control)}) is exceed - {bytes_to_human_readable(current_memory)}')\n",
      "Exception in thread Thread-9:\n",
      "Traceback (most recent call last):\n",
      "  File \"C:\\Users\\ornfi\\anaconda3\\lib\\threading.py\", line 973, in _bootstrap_inner\n",
      "    self.run()\n",
      "  File \"C:\\Users\\ornfi\\anaconda3\\lib\\threading.py\", line 910, in run\n",
      "    self._target(*self._args, **self._kwargs)\n",
      "  File \"C:\\Users\\ornfi\\AppData\\Local\\Temp\\ipykernel_14416\\56022994.py\", line 13, in memory_increment\n",
      "MemoryError\n"
     ]
    },
    {
     "ename": "Exception",
     "evalue": "Exception, hard limit(512.00M) is exceed - 528.56M",
     "output_type": "error",
     "traceback": [
      "\u001b[1;31m---------------------------------------------------------------------------\u001b[0m",
      "\u001b[1;31mException\u001b[0m                                 Traceback (most recent call last)",
      "Input \u001b[1;32mIn [25]\u001b[0m, in \u001b[0;36m<cell line: 15>\u001b[1;34m()\u001b[0m\n\u001b[0;32m     13\u001b[0m             lst\u001b[38;5;241m.\u001b[39mappend(i)\n\u001b[0;32m     14\u001b[0m     \u001b[38;5;28;01mreturn\u001b[39;00m lst\n\u001b[1;32m---> 15\u001b[0m \u001b[43mmemory_increment\u001b[49m\u001b[43m(\u001b[49m\u001b[43m)\u001b[49m\n",
      "Input \u001b[1;32mIn [8]\u001b[0m, in \u001b[0;36mmemory_limit.<locals>.wrapper.<locals>.inner_func\u001b[1;34m(*args, **kwargs)\u001b[0m\n\u001b[0;32m     47\u001b[0m     tread_for_function\u001b[38;5;241m.\u001b[39mjoin()  \u001b[38;5;66;03m# output of thread to the main area its interruption\u001b[39;00m\n\u001b[0;32m     48\u001b[0m     warnings\u001b[38;5;241m.\u001b[39mfilterwarnings(\u001b[38;5;124m'\u001b[39m\u001b[38;5;124mdefault\u001b[39m\u001b[38;5;124m'\u001b[39m) \u001b[38;5;66;03m# switch on warnings for other function\u001b[39;00m\n\u001b[1;32m---> 49\u001b[0m     \u001b[38;5;28;01mraise\u001b[39;00m \u001b[38;5;167;01mException\u001b[39;00m(\u001b[38;5;124mf\u001b[39m\u001b[38;5;124m'\u001b[39m\u001b[38;5;124mException, hard limit(\u001b[39m\u001b[38;5;132;01m{\u001b[39;00mbytes_to_human_readable(strict_control)\u001b[38;5;132;01m}\u001b[39;00m\u001b[38;5;124m) is exceed - \u001b[39m\u001b[38;5;132;01m{\u001b[39;00mbytes_to_human_readable(current_memory)\u001b[38;5;132;01m}\u001b[39;00m\u001b[38;5;124m'\u001b[39m)\n\u001b[0;32m     50\u001b[0m \u001b[38;5;28;01mif\u001b[39;00m soft_control \u001b[38;5;129;01mand\u001b[39;00m (current_memory \u001b[38;5;241m>\u001b[39m soft_control):\n\u001b[0;32m     51\u001b[0m     warnings\u001b[38;5;241m.\u001b[39mwarn(\u001b[38;5;124mf\u001b[39m\u001b[38;5;124m'\u001b[39m\u001b[38;5;124mWarning, soft limit(\u001b[39m\u001b[38;5;132;01m{\u001b[39;00mbytes_to_human_readable(soft_control)\u001b[38;5;132;01m}\u001b[39;00m\u001b[38;5;124m) is exceed - \u001b[39m\u001b[38;5;132;01m{\u001b[39;00mbytes_to_human_readable(current_memory)\u001b[38;5;132;01m}\u001b[39;00m\u001b[38;5;124m'\u001b[39m)\n",
      "\u001b[1;31mException\u001b[0m: Exception, hard limit(512.00M) is exceed - 528.56M"
     ]
    }
   ],
   "source": [
    "@memory_limit(soft_limit='150M', hard_limit=\"0.5G\", poll_interval=0.1)\n",
    "def memory_increment():\n",
    "    \"\"\"\n",
    "    Функция для тестирования\n",
    "    \n",
    "    В течение нескольких секунд достигает использования памяти 1.89G\n",
    "    Потребление памяти и скорость накопления можно варьировать, изменяя код\n",
    "    \"\"\"\n",
    "    lst = []\n",
    "    for i in range(500000000000):\n",
    "        if i % 500000 != 0:\n",
    "#            time.sleep(0.1)\n",
    "            lst.append(i)\n",
    "    return lst\n",
    "memory_increment()"
   ]
  },
  {
   "cell_type": "markdown",
   "id": "8d70745d-96b0-4c74-a7a2-e6a56f9c8e51",
   "metadata": {},
   "source": [
    "Ячейка завершает выполнение после Исключения, но такое ощущение, что при запуске начинает добегать другой поток и до этого момента выскакивает MemoryError (не совсем понимаю откуда, потому что аттрибут is_alive выдает False. Видимо, пока тестировал, я их очень много запустил, потому что выдает разный номер потока)"
   ]
  },
  {
   "cell_type": "markdown",
   "id": "4bf0a185-3fd7-4d48-bfeb-cf6ce8b12893",
   "metadata": {},
   "source": [
    "# Задание 3 (11 баллов)"
   ]
  },
  {
   "cell_type": "markdown",
   "id": "77eec6f5-3d52-43fc-b241-9114eb9c813c",
   "metadata": {},
   "source": [
    "Напишите функцию `parallel_map`. Это должна быть **универсальная** функция для распараллеливания, которая эффективно работает в любых условиях.\n",
    "\n",
    "Функция должна принимать следующие аргументы:\n",
    "1. `target_func` - целевая функция (обязательный аргумент)\n",
    "2. `args_container` - контейнер с позиционными аргументами для `target_func` (по-умолчанию `None` - позиционные аргументы не передаются)\n",
    "3. `kwargs_container` - контейнер с именованными аргументами для `target_func` (по-умолчанию `None` - именованные аргументы не передаются)\n",
    "4. `n_jobs` - количество workers, которые будут использованы для выполнения (по-умолчанию `None` - количество логических ядер CPU в системе)\n",
    "\n",
    "Функция должна работать аналогично `***PoolExecutor.map`, применяя функцию к переданному набору аргументов, но с некоторыми дополнениями и улучшениями\n",
    "    \n",
    "Поскольку мы пишем **универсальную** функцию, то нам нужно будет выполнить ряд требований, чтобы она могла логично и эффективно работать в большинстве ситуаций\n",
    "\n",
    "1. `target_func` может принимать аргументы любого вида в любом количестве\n",
    "2. Любые типы данных в `args_container`, кроме `tuple`, передаются в `target_func` как единственный позиционный аргумент. `tuple` распаковываются в несколько аргументов\n",
    "3. Количество элементов в `args_container` должно совпадать с количеством элементов в `kwargs_container` и наоборот, также значение одного из них или обоих может быть равно `None`, в иных случаях должна кидаться ошибка (оба аргумента переданы, но размеры не совпадают)\n",
    "\n",
    "4. Функция должна выполнять определённое количество параллельных вызовов `target_func`, это количество зависит от числа переданных аргументов и значения `n_jobs`. Сценарии могут быть следующие\n",
    "    + `args_container=None`, `kwargs_container=None`, `n_jobs=None`. В таком случае функция `target_func` выполнится параллельно столько раз, сколько на вашем устройстве логических ядер CPU\n",
    "    + `args_container=None`, `kwargs_container=None`, `n_jobs=5`. В таком случае функция `target_func` выполнится параллельно **5** раз\n",
    "    + `args_container=[1, 2, 3]`, `kwargs_container=None`, `n_jobs=5`. В таком случае функция `target_func` выполнится параллельно **3** раза, несмотря на то, что `n_jobs=5` (так как есть всего 3 набора аргументов для которых нам нужно получить результат, а лишние worker'ы создавать не имеет смысла)\n",
    "    + `args_container=None`, `kwargs_container=[{\"s\": 1}, {\"s\": 2}, {\"s\": 3}]`, `n_jobs=5`. Данный случай аналогичен предыдущему, но здесь мы используем именованные аргументы\n",
    "    + `args_container=[1, 2, 3]`, `kwargs_container=[{\"s\": 1}, {\"s\": 2}, {\"s\": 3}]`, `n_jobs=5`. Данный случай аналогичен предыдущему, но здесь мы используем и позиционные, и именованные аргументы\n",
    "    + `args_container=[1, 2, 3, 4]`, `kwargs_container=None`, `n_jobs=2`. В таком случае в каждый момент времени параллельно будет выполняться **не более 2** функций `target_func`, так как нам нужно выполнить её 4 раза, но у нас есть только 2 worker'а.\n",
    "    + В подобных случаях (из примера выше) должно оптимизироваться время выполнения. Если эти 4 вызова выполняются за 5, 1, 2 и 1 секунды, то параллельное выполнение с `n_jobs=2` должно занять **5 секунд** (не 7 и тем более не 10)\n",
    "\n",
    "5. `parallel_map` возвращает результаты выполнения `target_func` **в том же порядке**, в котором были переданы соответствующие аргументы\n",
    "6. Работает с функциями, созданными внутри других функций\n",
    "\n",
    "Для базового решения от вас не ожидается **сверххорошая** оптимизация по времени и памяти для всех возможных случаев. Однако за хорошо оптимизированную логику работы можно получить до **+3 дополнительных баллов**\n",
    "\n",
    "Вы можете сделать класс вместо функции, если вам удобнее\n",
    "\n",
    "В задании можно использовать только модули из **стандартной библиотеки** питона\n",
    "\n",
    "Ниже приведены тестовые примеры по каждому из требований"
   ]
  },
  {
   "cell_type": "code",
   "execution_count": 30,
   "id": "ff74ae85-9c5a-468e-950a-a916fb3aba93",
   "metadata": {},
   "outputs": [],
   "source": [
    "import multiprocessing\n",
    "import threading\n",
    "from concurrent.futures import ProcessPoolExecutor\n",
    "from concurrent.futures import ThreadPoolExecutor"
   ]
  },
  {
   "cell_type": "code",
   "execution_count": 232,
   "id": "bf29e43a-4aa1-42bd-8dde-b098fffe4534",
   "metadata": {
    "tags": []
   },
   "outputs": [],
   "source": [
    "def parallel_map(target_func: Callable,\n",
    "                 args_container: Union[Tuple, List] = None,\n",
    "                 kwargs_container: Dict = None,\n",
    "                 n_jobs: int = None) -> Any:\n",
    "    \"\"\"\n",
    "    Function for parallelizing other functions\n",
    "    :param target_func: target function\n",
    "    :param args_container: position arguments of fuction\n",
    "    :param kwargs_container: key arguments of function\n",
    "    :param n_jobs: the number of threads\n",
    "    :return: result of target function execution\n",
    "    \"\"\"\n",
    "    \n",
    "    # determine n_jobs in case n_jobs=None\n",
    "    if n_jobs == None:\n",
    "        n_jobs = os.cpu_count()\n",
    "    \n",
    "    # introduce flag for tracing status of args and kwargs\n",
    "    flag = 0\n",
    "    \n",
    "    # arg_module is needed for real_n_jobs: in case None it transforms to kwargs_container and then i observe what contains kwargs \n",
    "    if args_container == None:\n",
    "        arg_module = kwargs_container  \n",
    "    else:\n",
    "        arg_module = args_container\n",
    "        # for succesfull executing all args convert into tuple\n",
    "        for element, arg in enumerate(args_container):\n",
    "            args_container[element] = arg if isinstance(arg, tuple) else (arg,) \n",
    "        flag += 1\n",
    "     \n",
    "    # kwarg_module is also needed for real_n_jobs: in case None it and arg_module transforms into amount greater than number of threads\n",
    "    if kwargs_container == None:\n",
    "        arg_module, kwarg_module = [1] * (n_jobs + 1), [1] * (n_jobs + 1)\n",
    "    else:\n",
    "        kwarg_module = kwargs_container\n",
    "        flag += 2\n",
    "    \n",
    "    # check equal length\n",
    "    if len(arg_module) != len(kwarg_module):\n",
    "        raise Exception(f'The length of containers does not equal: {len(arg_module)} and {len(kwarg_module)}')\n",
    "    else:\n",
    "        real_n_jobs = min(len(arg_module), n_jobs)        # determine real threads\n",
    "    \n",
    "    # start parallel programming for every possible way\n",
    "    with ThreadPoolExecutor(real_n_jobs) as pool:\n",
    "        future_list, result = [], []\n",
    "        \n",
    "        if flag == 3:\n",
    "            container_mix = list(zip(args_container, kwargs_container))\n",
    "            for combination in container_mix:\n",
    "                future = pool.submit(target_func, *combination[0], **combination[1])\n",
    "                future_list.append(future)\n",
    "            for execute in future_list:\n",
    "                result.append(execute.result())\n",
    "                \n",
    "        if flag == 2:\n",
    "            for k_arg in kwargs_container:\n",
    "                future = pool.submit(target_func, **k_arg)\n",
    "                future_list.append(future)\n",
    "            for execute in future_list:\n",
    "                result.append(execute.result())\n",
    "        \n",
    "        if flag == 1:\n",
    "            for arg in args_container:\n",
    "                future = pool.submit(target_func, *arg)\n",
    "                future_list.append(future)\n",
    "            for execute in future_list:\n",
    "                result.append(execute.result())\n",
    "            \n",
    "        if flag == 0:\n",
    "            for _ in range(real_n_jobs):\n",
    "                future = pool.submit(target_func)\n",
    "                future_list.append(future)\n",
    "            for execute in future_list:\n",
    "                result.append(execute.result())\n",
    "    \n",
    "    return result"
   ]
  },
  {
   "cell_type": "code",
   "execution_count": 233,
   "id": "0f41b1c8-0d26-483e-8114-1e7638006e34",
   "metadata": {},
   "outputs": [],
   "source": [
    "import time\n",
    "\n",
    "\n",
    "# Это только один пример тестовой функции, ваша parallel_map должна уметь эффективно работать с ЛЮБЫМИ функциями\n",
    "# Поэтому обязательно протестируйте код на чём-нибудбь ещё\n",
    "def test_func(x=1, s=2, a=1, b=1, c=1):\n",
    "    time.sleep(s)\n",
    "    return a*x**2 + b*x + c"
   ]
  },
  {
   "cell_type": "code",
   "execution_count": 234,
   "id": "c7904473-292a-46c6-ad25-827c8955fb1f",
   "metadata": {},
   "outputs": [
    {
     "name": "stdout",
     "output_type": "stream",
     "text": [
      "CPU times: total: 0 ns\n",
      "Wall time: 8.11 s\n"
     ]
    },
    {
     "data": {
      "text/plain": [
       "[3, 7.0, (-8-3j), 21]"
      ]
     },
     "execution_count": 234,
     "metadata": {},
     "output_type": "execute_result"
    }
   ],
   "source": [
    "%%time\n",
    "\n",
    "# Пример 2.1.0 \n",
    "# Работа в одном потоке\n",
    "# Отдельные значения в args_container передаются в качестве позиционных аргументов\n",
    "parallel_map(test_func, args_container=[1, 2.0, 3j-1, 4], n_jobs=1)   # Здесь происходят параллельные вызовы: test_func(1) test_func(2.0) test_func(3j-1) test_func(4)"
   ]
  },
  {
   "cell_type": "code",
   "execution_count": 235,
   "id": "54d48c99-6e8a-4990-8944-e5da424efdbd",
   "metadata": {},
   "outputs": [
    {
     "name": "stdout",
     "output_type": "stream",
     "text": [
      "CPU times: total: 0 ns\n",
      "Wall time: 2.02 s\n"
     ]
    },
    {
     "data": {
      "text/plain": [
       "[3, 7.0, (-8-3j), 21]"
      ]
     },
     "execution_count": 235,
     "metadata": {},
     "output_type": "execute_result"
    }
   ],
   "source": [
    "%%time\n",
    "\n",
    "# Пример 2.1.1\n",
    "# Запускаю в 8 потоках\n",
    "# Отдельные значения в args_container передаются в качестве позиционных аргументов\n",
    "parallel_map(test_func, args_container=[1, 2.0, 3j-1, 4], n_jobs=8)   # Здесь происходят параллельные вызовы: test_func(1) test_func(2.0) test_func(3j-1) test_func(4)"
   ]
  },
  {
   "cell_type": "code",
   "execution_count": 203,
   "id": "dd0da716-5bbf-4925-b87a-7efe82c51cf9",
   "metadata": {},
   "outputs": [
    {
     "name": "stdout",
     "output_type": "stream",
     "text": [
      "CPU times: total: 0 ns\n",
      "Wall time: 3.01 s\n"
     ]
    },
    {
     "data": {
      "text/plain": [
       "[3, 7.0, (-8-3j), 21]"
      ]
     },
     "execution_count": 203,
     "metadata": {},
     "output_type": "execute_result"
    }
   ],
   "source": [
    "%%time\n",
    "\n",
    "# Пример 2.2\n",
    "# Элементы типа tuple в args_container распаковываются в качестве позиционных аргументов\n",
    "parallel_map(test_func, [(1, 1), (2.0, 2), (3j-1, 3), 4])    # Здесь происходят параллельные вызовы: test_func(1, 1) test_func(2.0, 2) test_func(3j-1, 3) test_func(4)"
   ]
  },
  {
   "cell_type": "code",
   "execution_count": 206,
   "id": "e2a0e6fd-1d92-4f06-9e4b-51290501c2da",
   "metadata": {},
   "outputs": [
    {
     "name": "stdout",
     "output_type": "stream",
     "text": [
      "CPU times: total: 0 ns\n",
      "Wall time: 3.01 s\n"
     ]
    },
    {
     "data": {
      "text/plain": [
       "[3, 7, 13, 21]"
      ]
     },
     "execution_count": 206,
     "metadata": {},
     "output_type": "execute_result"
    }
   ],
   "source": [
    "%%time\n",
    "\n",
    "# Пример 3.1\n",
    "# Возможна одновременная передача args_container и kwargs_container, но количества элементов в них должны быть равны\n",
    "parallel_map(test_func,\n",
    "             args_container=[1, 2, 3, 4],\n",
    "             kwargs_container=[{\"s\": 3}, {\"s\": 3}, {\"s\": 3}, {\"s\": 3}])\n",
    "\n",
    "# Здесь происходят параллельные вызовы: test_func(1, s=3) test_func(2, s=3) test_func(3, s=3) test_func(4, s=3)"
   ]
  },
  {
   "cell_type": "code",
   "execution_count": 207,
   "id": "34cda7e6-b24a-4564-958f-c4cf20b7ed7c",
   "metadata": {},
   "outputs": [
    {
     "name": "stdout",
     "output_type": "stream",
     "text": [
      "CPU times: total: 0 ns\n",
      "Wall time: 3.01 s\n"
     ]
    },
    {
     "data": {
      "text/plain": [
       "[3, 3, 3, 3]"
      ]
     },
     "execution_count": 207,
     "metadata": {},
     "output_type": "execute_result"
    }
   ],
   "source": [
    "%%time\n",
    "\n",
    "# Пример 3.2\n",
    "# args_container может быть None, а kwargs_container задан явно\n",
    "parallel_map(test_func,\n",
    "             kwargs_container=[{\"s\": 3}, {\"s\": 3}, {\"s\": 3}, {\"s\": 3}])"
   ]
  },
  {
   "cell_type": "code",
   "execution_count": 208,
   "id": "e75853e1-1ed8-43c5-b045-e30dd34a9f34",
   "metadata": {},
   "outputs": [
    {
     "name": "stdout",
     "output_type": "stream",
     "text": [
      "CPU times: total: 0 ns\n",
      "Wall time: 2.01 s\n"
     ]
    },
    {
     "data": {
      "text/plain": [
       "[3, 7, 13, 21]"
      ]
     },
     "execution_count": 208,
     "metadata": {},
     "output_type": "execute_result"
    }
   ],
   "source": [
    "%%time\n",
    "\n",
    "# Пример 3.3\n",
    "# kwargs_container может быть None, а args_container задан явно\n",
    "parallel_map(test_func,\n",
    "             args_container=[1, 2, 3, 4])"
   ]
  },
  {
   "cell_type": "code",
   "execution_count": 209,
   "id": "55bd628f-0456-4b3f-8cea-ccbfc0e0dd72",
   "metadata": {},
   "outputs": [
    {
     "name": "stdout",
     "output_type": "stream",
     "text": [
      "CPU times: total: 0 ns\n",
      "Wall time: 2.02 s\n"
     ]
    },
    {
     "data": {
      "text/plain": [
       "[3, 3, 3, 3, 3, 3, 3, 3, 3, 3, 3, 3]"
      ]
     },
     "execution_count": 209,
     "metadata": {},
     "output_type": "execute_result"
    }
   ],
   "source": [
    "%%time\n",
    "\n",
    "# Пример 3.4\n",
    "# И kwargs_container, и args_container могут быть не заданы\n",
    "parallel_map(test_func)"
   ]
  },
  {
   "cell_type": "code",
   "execution_count": 210,
   "id": "bcdf8016-8363-4876-b05d-d1b536261f01",
   "metadata": {},
   "outputs": [
    {
     "ename": "Exception",
     "evalue": "The length of containers does not equal: 4 and 3",
     "output_type": "error",
     "traceback": [
      "\u001b[1;31m---------------------------------------------------------------------------\u001b[0m",
      "\u001b[1;31mException\u001b[0m                                 Traceback (most recent call last)",
      "File \u001b[1;32m<timed eval>:3\u001b[0m, in \u001b[0;36m<module>\u001b[1;34m\u001b[0m\n",
      "Input \u001b[1;32mIn [205]\u001b[0m, in \u001b[0;36mparallel_map\u001b[1;34m(target_func, args_container, kwargs_container, n_jobs)\u001b[0m\n\u001b[0;32m     23\u001b[0m     flag \u001b[38;5;241m+\u001b[39m\u001b[38;5;241m=\u001b[39m \u001b[38;5;241m2\u001b[39m\n\u001b[0;32m     25\u001b[0m \u001b[38;5;28;01mif\u001b[39;00m \u001b[38;5;28mlen\u001b[39m(arg_module) \u001b[38;5;241m!=\u001b[39m \u001b[38;5;28mlen\u001b[39m(kwarg_module):\n\u001b[1;32m---> 26\u001b[0m     \u001b[38;5;28;01mraise\u001b[39;00m \u001b[38;5;167;01mException\u001b[39;00m(\u001b[38;5;124mf\u001b[39m\u001b[38;5;124m'\u001b[39m\u001b[38;5;124mThe length of containers does not equal: \u001b[39m\u001b[38;5;132;01m{\u001b[39;00m\u001b[38;5;28mlen\u001b[39m(arg_module)\u001b[38;5;132;01m}\u001b[39;00m\u001b[38;5;124m and \u001b[39m\u001b[38;5;132;01m{\u001b[39;00m\u001b[38;5;28mlen\u001b[39m(kwarg_module)\u001b[38;5;132;01m}\u001b[39;00m\u001b[38;5;124m'\u001b[39m)\n\u001b[0;32m     27\u001b[0m \u001b[38;5;28;01melse\u001b[39;00m:\n\u001b[0;32m     28\u001b[0m     real_n_jobs \u001b[38;5;241m=\u001b[39m \u001b[38;5;28mmin\u001b[39m(\u001b[38;5;28mlen\u001b[39m(arg_module), n_jobs)\n",
      "\u001b[1;31mException\u001b[0m: The length of containers does not equal: 4 and 3"
     ]
    }
   ],
   "source": [
    "%%time\n",
    "\n",
    "# Пример 3.5\n",
    "# При несовпадении количеств позиционных и именованных аргументов кидается ошибка\n",
    "parallel_map(test_func,\n",
    "             args_container=[1, 2, 3, 4],\n",
    "             kwargs_container=[{\"s\": 3}, {\"s\": 3}, {\"s\": 3}])"
   ]
  },
  {
   "cell_type": "code",
   "execution_count": 211,
   "id": "115e5fea-0692-424e-acb5-e2d97391bad5",
   "metadata": {},
   "outputs": [
    {
     "name": "stdout",
     "output_type": "stream",
     "text": [
      "CPU times: total: 0 ns\n",
      "Wall time: 2.02 s\n"
     ]
    },
    {
     "data": {
      "text/plain": [
       "[3, 3, 3, 3, 3, 3, 3, 3, 3, 3, 3, 3]"
      ]
     },
     "execution_count": 211,
     "metadata": {},
     "output_type": "execute_result"
    }
   ],
   "source": [
    "%%time\n",
    "\n",
    "# Пример 4.1\n",
    "# Если функция не имеет обязательных аргументов и аргумент n_jobs не был передан, то она выполняется параллельно столько раз, сколько ваш CPU имеет логических ядер\n",
    "# В моём случае это 24, у вас может быть больше или меньше\n",
    "parallel_map(test_func)"
   ]
  },
  {
   "cell_type": "code",
   "execution_count": 212,
   "id": "212fcdbe-a9f3-4eba-8d3f-7da0b853bffd",
   "metadata": {},
   "outputs": [
    {
     "name": "stdout",
     "output_type": "stream",
     "text": [
      "CPU times: total: 0 ns\n",
      "Wall time: 2.01 s\n"
     ]
    },
    {
     "data": {
      "text/plain": [
       "[3, 3]"
      ]
     },
     "execution_count": 212,
     "metadata": {},
     "output_type": "execute_result"
    }
   ],
   "source": [
    "%%time\n",
    "\n",
    "# Пример 4.2\n",
    "# Если функция не имеет обязательных аргументов и передан только аргумент n_jobs, то она выполняется параллельно n_jobs раз\n",
    "parallel_map(test_func, n_jobs=2)"
   ]
  },
  {
   "cell_type": "code",
   "execution_count": 213,
   "id": "202675af-11b9-485c-baa4-cc1ef8eb919d",
   "metadata": {},
   "outputs": [
    {
     "name": "stdout",
     "output_type": "stream",
     "text": [
      "CPU times: total: 0 ns\n",
      "Wall time: 2.01 s\n"
     ]
    },
    {
     "data": {
      "text/plain": [
       "[3, 7, 13]"
      ]
     },
     "execution_count": 213,
     "metadata": {},
     "output_type": "execute_result"
    }
   ],
   "source": [
    "%%time\n",
    "\n",
    "# Пример 4.3\n",
    "# Если аргументов для target_func указано МЕНЬШЕ, чем n_jobs, то используется такое же количество worker'ов, сколько было передано аргументов\n",
    "parallel_map(test_func,\n",
    "             args_container=[1, 2, 3],\n",
    "             n_jobs=5)   # Здесь используется 3 worker'a"
   ]
  },
  {
   "cell_type": "code",
   "execution_count": 214,
   "id": "a0952cde-c347-438a-ad0b-15e1218e5b6f",
   "metadata": {},
   "outputs": [
    {
     "name": "stdout",
     "output_type": "stream",
     "text": [
      "CPU times: total: 0 ns\n",
      "Wall time: 3.01 s\n"
     ]
    },
    {
     "data": {
      "text/plain": [
       "[3, 3, 3]"
      ]
     },
     "execution_count": 214,
     "metadata": {},
     "output_type": "execute_result"
    }
   ],
   "source": [
    "%%time\n",
    "\n",
    "# Пример 4.4\n",
    "# Аналогичный предыдущему случай, но с именованными аргументами\n",
    "parallel_map(test_func,\n",
    "             kwargs_container=[{\"s\": 3}, {\"s\": 3}, {\"s\": 3}],\n",
    "             n_jobs=5)   # Здесь используется 3 worker'a"
   ]
  },
  {
   "cell_type": "code",
   "execution_count": 215,
   "id": "b2c7d286-6036-44b4-9686-d941297e9598",
   "metadata": {},
   "outputs": [
    {
     "name": "stdout",
     "output_type": "stream",
     "text": [
      "CPU times: total: 0 ns\n",
      "Wall time: 3.01 s\n"
     ]
    },
    {
     "data": {
      "text/plain": [
       "[3, 7, 13]"
      ]
     },
     "execution_count": 215,
     "metadata": {},
     "output_type": "execute_result"
    }
   ],
   "source": [
    "%%time\n",
    "\n",
    "# Пример 4.5\n",
    "# Комбинация примеров 4.3 и 4.4 (переданы и позиционные и именованные аргументы)\n",
    "parallel_map(test_func,\n",
    "             args_container=[1, 2, 3],\n",
    "             kwargs_container=[{\"s\": 3}, {\"s\": 3}, {\"s\": 3}],\n",
    "             n_jobs=5)   # Здесь используется 3 worker'a"
   ]
  },
  {
   "cell_type": "code",
   "execution_count": 216,
   "id": "8b4649e2-a75b-4ede-8a46-32a0139fe998",
   "metadata": {},
   "outputs": [
    {
     "name": "stdout",
     "output_type": "stream",
     "text": [
      "CPU times: total: 0 ns\n",
      "Wall time: 4.02 s\n"
     ]
    },
    {
     "data": {
      "text/plain": [
       "[3, 7, 13, 21]"
      ]
     },
     "execution_count": 216,
     "metadata": {},
     "output_type": "execute_result"
    }
   ],
   "source": [
    "%%time\n",
    "\n",
    "# Пример 4.6\n",
    "# Если аргументов для target_func указано БОЛЬШЕ, чем n_jobs, то используется n_jobs worker'ов\n",
    "parallel_map(test_func,\n",
    "             args_container=[1, 2, 3, 4],\n",
    "             kwargs_container=None,\n",
    "             n_jobs=2)   # Здесь используется 2 worker'a"
   ]
  },
  {
   "cell_type": "code",
   "execution_count": 217,
   "id": "627aa784-15b5-41ca-b232-73c88c5ebed9",
   "metadata": {},
   "outputs": [
    {
     "name": "stdout",
     "output_type": "stream",
     "text": [
      "CPU times: total: 15.6 ms\n",
      "Wall time: 5 s\n"
     ]
    },
    {
     "data": {
      "text/plain": [
       "[3, 3, 3, 3]"
      ]
     },
     "execution_count": 217,
     "metadata": {},
     "output_type": "execute_result"
    }
   ],
   "source": [
    "%%time\n",
    "\n",
    "# Пример 4.7\n",
    "# Время выполнения оптимизируется, данный код должен отрабатывать за 5 секунд\n",
    "parallel_map(test_func,\n",
    "             kwargs_container=[{\"s\": 5}, {\"s\": 1}, {\"s\": 2}, {\"s\": 1}],\n",
    "             n_jobs=2)"
   ]
  },
  {
   "cell_type": "code",
   "execution_count": 218,
   "id": "55bbfb49-4891-48c8-9cd7-782567b2a8fa",
   "metadata": {},
   "outputs": [
    {
     "data": {
      "text/plain": [
       "['first', 'second', 'third', 'fourth', 'fifth']"
      ]
     },
     "execution_count": 218,
     "metadata": {},
     "output_type": "execute_result"
    }
   ],
   "source": [
    "def test_func2(string, sleep_time=1):\n",
    "    time.sleep(sleep_time)\n",
    "    return string\n",
    "\n",
    "# Пример 5\n",
    "# Результаты возвращаются в том же порядке, в котором были переданы соответствующие аргументы вне зависимости от того, когда завершился worker\n",
    "arguments = [\"first\", \"second\", \"third\", \"fourth\", \"fifth\"]\n",
    "parallel_map(test_func2,\n",
    "             args_container=arguments,\n",
    "             kwargs_container=[{\"sleep_time\": 5}, {\"sleep_time\": 4}, {\"sleep_time\": 3}, {\"sleep_time\": 2}, {\"sleep_time\": 1}])"
   ]
  },
  {
   "cell_type": "code",
   "execution_count": 219,
   "id": "a5c2bcab-baa8-4f95-aceb-8cd6635844d6",
   "metadata": {},
   "outputs": [
    {
     "name": "stdout",
     "output_type": "stream",
     "text": [
      "CPU times: total: 0 ns\n",
      "Wall time: 3.01 s\n"
     ]
    },
    {
     "data": {
      "text/plain": [
       "[None, None, None]"
      ]
     },
     "execution_count": 219,
     "metadata": {},
     "output_type": "execute_result"
    }
   ],
   "source": [
    "%%time\n",
    "\n",
    "\n",
    "def test_func3():\n",
    "    def inner_test_func(sleep_time):\n",
    "        time.sleep(sleep_time)\n",
    "    return parallel_map(inner_test_func, args_container=[1, 2, 3])\n",
    "\n",
    "# Пример 6\n",
    "# Работает с функциями, созданными внутри других функций\n",
    "test_func3()"
   ]
  },
  {
   "cell_type": "markdown",
   "id": "892dae86-be30-4fb3-b096-7e950e65b552",
   "metadata": {
    "tags": []
   },
   "source": [
    "#### P.S. Pома и Катя, огромное вам спасибо за отличный фидбек, за быструю проверку и в целом за курс. \n",
    "\n",
    "#### Роме еще отдельное спасибо за потрясающие лекции и ноутбуки, они супер! И сам курс мне показался самым лучшим и полезным за этот год в ИБ - только Дане не говорите, мне ему еще домашки по МL сдавать :) Спасибо большое!  "
   ]
  }
 ],
 "metadata": {
  "kernelspec": {
   "display_name": "Python 3 (ipykernel)",
   "language": "python",
   "name": "python3"
  },
  "language_info": {
   "codemirror_mode": {
    "name": "ipython",
    "version": 3
   },
   "file_extension": ".py",
   "mimetype": "text/x-python",
   "name": "python",
   "nbconvert_exporter": "python",
   "pygments_lexer": "ipython3",
   "version": "3.9.12"
  }
 },
 "nbformat": 4,
 "nbformat_minor": 5
}
