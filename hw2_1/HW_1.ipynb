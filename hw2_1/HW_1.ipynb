{
 "cells": [
  {
   "cell_type": "markdown",
   "id": "7c5a538f-2dbe-445c-9f46-cf0dc18867e4",
   "metadata": {},
   "source": [
    "# Задание 1 (5 баллов)"
   ]
  },
  {
   "cell_type": "markdown",
   "id": "1e8cc3b0-6f60-40da-8058-30d9eb434daf",
   "metadata": {},
   "source": [
    "Напишите классы **Chat**, **Message** и **User**. Они должны соответствовать следующим требованиям:\n",
    "\n",
    "**Chat**:\n",
    "+ Должен иметь атрибут `chat_history`, где будут храниться все сообщения (`Message`) в обратном хронологическом порядке (сначала новые, затем старые)\n",
    "+ Должен иметь метод `show_last_message`, выводящий на экран информацию о последнем сообщении\n",
    "+ Должен иметь метод `get_history_from_time_period`, который принимает два опциональных аргумента (даты с которой и по какую мы ищем сообщения и выдаём их). Метод также должен возвращать объект типа `Chat`\n",
    "+ Должен иметь метод `show_chat`, выводящий на экран все сообщения (каждое сообщение в таком же виде как и `show_last_message`, но с разделителем между ними)\n",
    "+ Должен иметь метод `recieve`, который будет принимать сообщение и добавлять его в чат\n",
    "\n",
    "**Message**:\n",
    "+ Должен иметь три обязательных атрибута\n",
    "    + `text` - текст сообщения\n",
    "    + `datetime` - дата и время сообщения (встроенный модуль datetime вам в помощь). Важно! Это должна быть не дата создания сообщения, а дата его попадания в чат! \n",
    "    + `user` - информация о пользователе, который оставил сообщение (какой тип данных использовать здесь, разберётесь сами)\n",
    "+ Должен иметь метод `show`, который печатает или возвращает информацию о сообщении с необходимой информацией (дата, время, юзер, текст)\n",
    "+ Должен иметь метод `send`, который будет отправлять сообщение в чат\n",
    "\n",
    "**User**:\n",
    "+ Класс с информацией о юзере, наполнение для этого класса придумайте сами\n",
    "\n",
    "Напишите несколько примеров использования кода, которое показывает взаимодействие между объектами.\n",
    "\n",
    "В тексте задания намерено не указано, какие аргументы должны принимать методы, пускай вам в этом поможет здравый смысл)\n",
    "\n",
    "В этом задании не стоит флексить всякими продвинутыми штуками, для этого есть последующие\n",
    "\n",
    "В этом задании можно использовать только модуль `datetime`"
   ]
  },
  {
   "cell_type": "code",
   "execution_count": 1,
   "id": "c0a10e2b-8c08-4657-b2b1-fe0db916a886",
   "metadata": {},
   "outputs": [],
   "source": [
    "from datetime import datetime\n",
    "from random import choice   # for User"
   ]
  },
  {
   "cell_type": "code",
   "execution_count": 2,
   "id": "3635cb09-160f-4e8e-8f15-7391d5b00b05",
   "metadata": {},
   "outputs": [],
   "source": [
    "class User:\n",
    "    def __init__(self, name='I'):\n",
    "        self.name = name \n",
    "\n",
    "    def online_offline(self):\n",
    "        return choice(['online', 'offline'])"
   ]
  },
  {
   "cell_type": "code",
   "execution_count": 3,
   "id": "d0b48438-491b-4afe-afd0-b77f7764fb34",
   "metadata": {},
   "outputs": [],
   "source": [
    " class Message:\n",
    "    def __init__(self, text, user, datetime = 'Draft'):   #maybe as draft or as planning message \n",
    "        self.text = text\n",
    "        self.time = datetime\n",
    "        if isinstance(user, User):                        #i think its better then convert into User\n",
    "            self.user = user.name\n",
    "        else:\n",
    "            self.user = User('Incognito').name\n",
    "    \n",
    "    def show(self):\n",
    "        print(f' Message text: {self.text} \\n Time: {self.time} \\n Sender: {self.user} \\n')\n",
    "    \n",
    "    def send(self, chat):\n",
    "        if not isinstance(self.time, datetime):\n",
    "            self.time = datetime.now()\n",
    "            \n",
    "        chat.chat_history.insert(0, self)"
   ]
  },
  {
   "cell_type": "code",
   "execution_count": 4,
   "id": "2f2b8d07-bc4b-4b3d-a4bf-5b43ff54e803",
   "metadata": {},
   "outputs": [],
   "source": [
    "class Chat:\n",
    "    def __init__(self, chat_history = []):\n",
    "        self.chat_history = chat_history\n",
    "        \n",
    "    def show_last_message(self):\n",
    "        type(Message)(self.chat_history[0]).show(self.chat_history[0])\n",
    "    \n",
    "    def get_history_from_time_period(self, start = datetime.now, stop = datetime.min):\n",
    "        if start == datetime.now:                            #in order to dont activate during exampler creation\n",
    "            start = start()\n",
    "        try: \n",
    "            isinstance(start and stop, datetime) == True\n",
    "        except:\n",
    "            raise BaseException('Class inconsistancy: use datetime') \n",
    "        \n",
    "        history_period = []\n",
    "\n",
    "        for choise in self.chat_history:\n",
    "            \n",
    "            if start > choise.time > stop:\n",
    "                history_period.append(choise)\n",
    "                            \n",
    "        if history_period:\n",
    "            return(Chat(history_period))\n",
    "        else:\n",
    "            print('Chat history in this period is empty')\n",
    "            return None\n",
    "    \n",
    "    def show_chat(self):\n",
    "        for messages in self.chat_history:\n",
    "            messages.show()\n",
    "            \n",
    "    def receive(self, mail):\n",
    "        type(Message)(mail).send(mail, self) "
   ]
  },
  {
   "cell_type": "markdown",
   "id": "3b2b33e0-cb69-45d4-8f8f-6367a2325c7f",
   "metadata": {},
   "source": [
    "Создаем юзеров и проверяем в сети ли они"
   ]
  },
  {
   "cell_type": "code",
   "execution_count": 5,
   "id": "74dc8287-1d29-4e72-b837-9a5773e39c94",
   "metadata": {
    "tags": []
   },
   "outputs": [],
   "source": [
    "i = User('Zhenya')"
   ]
  },
  {
   "cell_type": "code",
   "execution_count": 6,
   "id": "91d61938-e790-4c4a-b512-c23950219d44",
   "metadata": {},
   "outputs": [
    {
     "data": {
      "text/plain": [
       "'Zhenya'"
      ]
     },
     "execution_count": 6,
     "metadata": {},
     "output_type": "execute_result"
    }
   ],
   "source": [
    "i.name"
   ]
  },
  {
   "cell_type": "code",
   "execution_count": 7,
   "id": "f348bf22-28eb-4a69-95f8-7f618febb095",
   "metadata": {},
   "outputs": [
    {
     "data": {
      "text/plain": [
       "'online'"
      ]
     },
     "execution_count": 7,
     "metadata": {},
     "output_type": "execute_result"
    }
   ],
   "source": [
    "i.online_offline()"
   ]
  },
  {
   "cell_type": "code",
   "execution_count": 8,
   "id": "847378da-71eb-4108-ac6e-f30d82d60e8f",
   "metadata": {},
   "outputs": [],
   "source": [
    "my_friend1 = User('Sasha')"
   ]
  },
  {
   "cell_type": "code",
   "execution_count": 9,
   "id": "39507a62-e6fc-41fa-a2e9-2b72722d41fa",
   "metadata": {},
   "outputs": [],
   "source": [
    "my_friend2 = User('Stepa')"
   ]
  },
  {
   "cell_type": "code",
   "execution_count": 10,
   "id": "65e6919c-d859-4674-94c8-30eb7454e687",
   "metadata": {},
   "outputs": [],
   "source": [
    "my_friend3 = User('Yulya')"
   ]
  },
  {
   "cell_type": "markdown",
   "id": "e57e16bb-a6ad-40b4-b7ee-ce2ff53650ab",
   "metadata": {},
   "source": [
    "Создадим черновик первого сообщения"
   ]
  },
  {
   "cell_type": "code",
   "execution_count": 11,
   "id": "2d23f80a-b94c-4552-bfbd-8642d2bf55e9",
   "metadata": {},
   "outputs": [],
   "source": [
    "first_message = Message('Hello', i)"
   ]
  },
  {
   "cell_type": "code",
   "execution_count": 12,
   "id": "cac3741d-9a48-41e3-a3c2-2b02e1c55aa4",
   "metadata": {},
   "outputs": [
    {
     "data": {
      "text/plain": [
       "'Hello'"
      ]
     },
     "execution_count": 12,
     "metadata": {},
     "output_type": "execute_result"
    }
   ],
   "source": [
    "first_message.text"
   ]
  },
  {
   "cell_type": "code",
   "execution_count": 13,
   "id": "8d8a4dfd-8b4d-429e-b795-afa0630aec17",
   "metadata": {},
   "outputs": [
    {
     "data": {
      "text/plain": [
       "'Draft'"
      ]
     },
     "execution_count": 13,
     "metadata": {},
     "output_type": "execute_result"
    }
   ],
   "source": [
    "first_message.time"
   ]
  },
  {
   "cell_type": "markdown",
   "id": "302f32ee-0841-404d-9ac1-cf6fbf6a7cd4",
   "metadata": {},
   "source": [
    "И запланируем отправку второго (тут немного странно, но это хорошо сработало для проверки истории)"
   ]
  },
  {
   "cell_type": "code",
   "execution_count": 14,
   "id": "e450b01e-dec7-4a2c-b71c-bc27db8b8ee1",
   "metadata": {},
   "outputs": [],
   "source": [
    "second_message = Message('Hi, Im from future', my_friend2, datetime(2023, 5, 18, 23, 59))"
   ]
  },
  {
   "cell_type": "code",
   "execution_count": 15,
   "id": "08c09073-d540-4bfd-9fdf-3a9662f6d475",
   "metadata": {},
   "outputs": [
    {
     "data": {
      "text/plain": [
       "'Stepa'"
      ]
     },
     "execution_count": 15,
     "metadata": {},
     "output_type": "execute_result"
    }
   ],
   "source": [
    "second_message.user"
   ]
  },
  {
   "cell_type": "code",
   "execution_count": 16,
   "id": "4a0eb007-4584-4af5-98af-05ff8ef186cd",
   "metadata": {},
   "outputs": [
    {
     "name": "stdout",
     "output_type": "stream",
     "text": [
      " Message text: Hi, Im from future \n",
      " Time: 2023-05-18 23:59:00 \n",
      " Sender: Stepa \n",
      "\n"
     ]
    }
   ],
   "source": [
    "second_message.show()"
   ]
  },
  {
   "cell_type": "markdown",
   "id": "d5680860-c8b8-4154-9ac2-d8aca05e794b",
   "metadata": {
    "tags": []
   },
   "source": [
    "Создание чата с сообщениями и проверка его функционала"
   ]
  },
  {
   "cell_type": "code",
   "execution_count": 17,
   "id": "6e70b37a-90f6-4f14-a1f9-46e744662107",
   "metadata": {},
   "outputs": [],
   "source": [
    "group = Chat()"
   ]
  },
  {
   "cell_type": "code",
   "execution_count": 18,
   "id": "9b91b936-cfe1-4f44-b80a-e135841e3cdc",
   "metadata": {},
   "outputs": [],
   "source": [
    "second_message.send(group)"
   ]
  },
  {
   "cell_type": "code",
   "execution_count": 19,
   "id": "4fcc2d45-22ed-433c-b414-c4c3ef5105a9",
   "metadata": {},
   "outputs": [
    {
     "data": {
      "text/plain": [
       "[<__main__.Message at 0x21cbf61ee20>]"
      ]
     },
     "execution_count": 19,
     "metadata": {},
     "output_type": "execute_result"
    }
   ],
   "source": [
    "group.chat_history"
   ]
  },
  {
   "cell_type": "code",
   "execution_count": 20,
   "id": "5c74b5ff-63bc-49ec-a2ee-6a890f34d146",
   "metadata": {},
   "outputs": [],
   "source": [
    "group.receive(first_message)"
   ]
  },
  {
   "cell_type": "code",
   "execution_count": 21,
   "id": "97481ea8-2398-4acb-aa0d-caa50d9e57c7",
   "metadata": {},
   "outputs": [
    {
     "data": {
      "text/plain": [
       "[<__main__.Message at 0x21cbf61ed90>, <__main__.Message at 0x21cbf61ee20>]"
      ]
     },
     "execution_count": 21,
     "metadata": {},
     "output_type": "execute_result"
    }
   ],
   "source": [
    "group.chat_history"
   ]
  },
  {
   "cell_type": "code",
   "execution_count": 22,
   "id": "c7fe0750-a00e-41c6-acdc-80cea73472de",
   "metadata": {},
   "outputs": [
    {
     "name": "stdout",
     "output_type": "stream",
     "text": [
      " Message text: Hello \n",
      " Time: 2023-03-26 02:15:30.460497 \n",
      " Sender: Zhenya \n",
      "\n",
      " Message text: Hi, Im from future \n",
      " Time: 2023-05-18 23:59:00 \n",
      " Sender: Stepa \n",
      "\n"
     ]
    }
   ],
   "source": [
    "group.show_chat()"
   ]
  },
  {
   "cell_type": "code",
   "execution_count": 23,
   "id": "7c37d273-606b-4bed-a7ca-429f829a733d",
   "metadata": {},
   "outputs": [
    {
     "name": "stdout",
     "output_type": "stream",
     "text": [
      " Message text: Hello \n",
      " Time: 2023-03-26 02:15:30.460497 \n",
      " Sender: Zhenya \n",
      "\n"
     ]
    }
   ],
   "source": [
    "group.show_last_message()"
   ]
  },
  {
   "cell_type": "code",
   "execution_count": 24,
   "id": "8a06f56b-7b97-4230-8cba-6ec0c0e765fe",
   "metadata": {},
   "outputs": [
    {
     "name": "stdout",
     "output_type": "stream",
     "text": [
      " Message text: Hello \n",
      " Time: 2023-03-26 02:15:30.460497 \n",
      " Sender: Zhenya \n",
      "\n"
     ]
    }
   ],
   "source": [
    "group.get_history_from_time_period().show_chat()"
   ]
  },
  {
   "cell_type": "code",
   "execution_count": 25,
   "id": "f9c89be3-4834-471a-a8fd-8d1b8439a418",
   "metadata": {},
   "outputs": [
    {
     "name": "stdout",
     "output_type": "stream",
     "text": [
      " Message text: Hi, Im from future \n",
      " Time: 2023-05-18 23:59:00 \n",
      " Sender: Stepa \n",
      "\n"
     ]
    }
   ],
   "source": [
    "group.get_history_from_time_period(datetime(2023, 5, 19, 23, 59), datetime(2023, 5, 8, 23, 59)).show_chat()"
   ]
  },
  {
   "cell_type": "markdown",
   "id": "a59aa1b3-4c93-480e-a09f-e57df34eb60a",
   "metadata": {},
   "source": [
    "# Задание 2 (3 балла)"
   ]
  },
  {
   "cell_type": "markdown",
   "id": "ab07eb69-877f-4c38-8c7d-88beae20071b",
   "metadata": {},
   "source": [
    "В питоне как-то слишком типично и неинтересно происходят вызовы функций. Напишите класс `Args`, который будет хранить в себе аргументы, а функции можно будет вызывать при помощи следующего синтаксиса.\n",
    "\n",
    "Использовать любые модули **нельзя**, да и вряд-ли это как-то поможет)"
   ]
  },
  {
   "cell_type": "code",
   "execution_count": 26,
   "id": "d73d6b31-c15a-4ae6-ad9b-b3fdab88efed",
   "metadata": {},
   "outputs": [],
   "source": [
    "class Args:\n",
    "    def __init__(self, *args, **kwargs):\n",
    "        self.alt_args = args\n",
    "        self.alt_kwargs = kwargs\n",
    "        \n",
    "    def __repr__(self):\n",
    "        return f'Object contains: args = {self.alt_args}, kwargs = {self.alt_kwargs}'  \n",
    "        \n",
    "    def __rlshift__(self, other):\n",
    "        return other(*self.alt_args, **self.alt_kwargs)"
   ]
  },
  {
   "cell_type": "code",
   "execution_count": 27,
   "id": "35ad47a3-fea3-4e4f-a914-b8d542ddfadf",
   "metadata": {},
   "outputs": [
    {
     "data": {
      "text/plain": [
       "3"
      ]
     },
     "execution_count": 27,
     "metadata": {},
     "output_type": "execute_result"
    }
   ],
   "source": [
    "sum << Args([1, 2])"
   ]
  },
  {
   "cell_type": "code",
   "execution_count": 28,
   "id": "c37f0728-9bdc-469e-a5b8-3ab5aa43a731",
   "metadata": {},
   "outputs": [
    {
     "data": {
      "text/plain": [
       "53"
      ]
     },
     "execution_count": 28,
     "metadata": {},
     "output_type": "execute_result"
    }
   ],
   "source": [
    "(lambda a, b, c: a**2 + b + c) << Args(1, 2, c=50)"
   ]
  },
  {
   "cell_type": "markdown",
   "id": "d6915eaf-92fe-460b-bf9b-06ccf55b093f",
   "metadata": {},
   "source": [
    "# Задание 3 (5 баллов)"
   ]
  },
  {
   "cell_type": "markdown",
   "id": "5a588ef8-8af6-42b6-972b-3c716a604c34",
   "metadata": {},
   "source": [
    "Сделайте класс наследник `float`. Он должен вести себя как `float`, но также должен обладать некоторыми особенностями:\n",
    "+ При получении атрибутов формата `<действие>_<число>` мы получаем результат такого действия над нашим числом\n",
    "+ Создавать данные атрибуты в явном виде, очевидно, не стоит\n",
    "\n",
    "Подсказка: если в процессе гуглёжки, вы выйдете на такую тему как **\"Дескрипторы\", то это НЕ то, что вам сейчас нужно**\n",
    "\n",
    "Примеры использования ниже"
   ]
  },
  {
   "cell_type": "code",
   "execution_count": 29,
   "id": "61cb63a2-90ac-4b79-97a5-bb0496262e32",
   "metadata": {},
   "outputs": [],
   "source": [
    "def change_operation(self, method):\n",
    "        try:\n",
    "            action, number = str(method).split('_')\n",
    "            if action in self._operations.keys():\n",
    "                return type(self)(self._operations[action](float(number)))\n",
    "            else:\n",
    "                return NotImplemented\n",
    "        except:\n",
    "            return NotImplemented\n",
    "            \n",
    "    \n",
    "\n",
    "class StrangeFloat(float):\n",
    "    \n",
    "    def __init__(self, operations):\n",
    "        self._operations = {'add' : self.__add__, 'subtract' : self.__sub__, \n",
    "                           'multiply' : self.__mul__, 'divide' : self.__truediv__,\n",
    "                           'pow' : self.__pow__, 'floor_divide' : self.__floordiv__\n",
    "                            }\n",
    "        super().__init__()\n",
    "\n",
    "                                  \n",
    "    def __getattr__(self, item):\n",
    "        return change_operation(self, item)\n",
    "    "
   ]
  },
  {
   "cell_type": "code",
   "execution_count": 30,
   "id": "f730c9c0-7d90-4037-97c6-e926dcbc1ea3",
   "metadata": {},
   "outputs": [],
   "source": [
    "number = StrangeFloat(6)"
   ]
  },
  {
   "cell_type": "code",
   "execution_count": 31,
   "id": "b2756368-a489-486d-a0f1-244697f8503c",
   "metadata": {},
   "outputs": [
    {
     "data": {
      "text/plain": [
       "7.0"
      ]
     },
     "execution_count": 31,
     "metadata": {},
     "output_type": "execute_result"
    }
   ],
   "source": [
    "number.add_1"
   ]
  },
  {
   "cell_type": "code",
   "execution_count": 32,
   "id": "c6799592-3cb6-4c7d-af62-9c0a48a76c1d",
   "metadata": {},
   "outputs": [
    {
     "data": {
      "text/plain": [
       "-14.0"
      ]
     },
     "execution_count": 32,
     "metadata": {},
     "output_type": "execute_result"
    }
   ],
   "source": [
    "number.subtract_20"
   ]
  },
  {
   "cell_type": "code",
   "execution_count": 33,
   "id": "130027b5-017a-4c70-b072-1fdc6acf670f",
   "metadata": {},
   "outputs": [
    {
     "data": {
      "text/plain": [
       "30.0"
      ]
     },
     "execution_count": 33,
     "metadata": {},
     "output_type": "execute_result"
    }
   ],
   "source": [
    "number.multiply_5"
   ]
  },
  {
   "cell_type": "code",
   "execution_count": 34,
   "id": "2b901e5c-5a51-4788-b15b-9b20a074e1a4",
   "metadata": {},
   "outputs": [
    {
     "data": {
      "text/plain": [
       "0.24"
      ]
     },
     "execution_count": 34,
     "metadata": {},
     "output_type": "execute_result"
    }
   ],
   "source": [
    "number.divide_25"
   ]
  },
  {
   "cell_type": "code",
   "execution_count": 35,
   "id": "ea52c492-b0ce-4d73-8aba-a0ea51ed0b60",
   "metadata": {},
   "outputs": [
    {
     "data": {
      "text/plain": [
       "-2.25"
      ]
     },
     "execution_count": 35,
     "metadata": {},
     "output_type": "execute_result"
    }
   ],
   "source": [
    "number.add_1.add_2.multiply_6.divide_8.subtract_9"
   ]
  },
  {
   "cell_type": "code",
   "execution_count": 36,
   "id": "e26ef411-a5df-46c7-bb9d-e77a1fad3cec",
   "metadata": {},
   "outputs": [
    {
     "data": {
      "text/plain": [
       "3.5"
      ]
     },
     "execution_count": 36,
     "metadata": {},
     "output_type": "execute_result"
    }
   ],
   "source": [
    "getattr(number, \"add_-2.5\")   # Используем getattr, так как не можем написать number.add_-2.5 - это SyntaxError"
   ]
  },
  {
   "cell_type": "code",
   "execution_count": 37,
   "id": "7a57bb29-1105-4df1-a4c4-5fbf62eef11d",
   "metadata": {},
   "outputs": [
    {
     "data": {
      "text/plain": [
       "12.0"
      ]
     },
     "execution_count": 37,
     "metadata": {},
     "output_type": "execute_result"
    }
   ],
   "source": [
    "number + 6   # Стандартные для float операции работают также"
   ]
  },
  {
   "cell_type": "code",
   "execution_count": 38,
   "id": "f0246b31-c55a-4bb8-ac15-46509bd8b340",
   "metadata": {},
   "outputs": [
    {
     "data": {
      "text/plain": [
       "(6, 1)"
      ]
     },
     "execution_count": 38,
     "metadata": {},
     "output_type": "execute_result"
    }
   ],
   "source": [
    "number.as_integer_ratio()   # Стандартные для float операции работают также  (это встроенный метод float, писать его НЕ НАДО)"
   ]
  },
  {
   "cell_type": "markdown",
   "id": "3635bceb-723c-4b2f-82e3-269bd914c46c",
   "metadata": {},
   "source": [
    "# Задание 4 (3 балла)"
   ]
  },
  {
   "cell_type": "markdown",
   "id": "31d35f82-1e20-4bf5-b896-7b8163f8386f",
   "metadata": {},
   "source": [
    "В данном задании мы немного отдохнём и повеселимся. От вас требуется заменить в данном коде максимально возможное количество синтаксических конструкций на вызовы dunder методов, dunder атрибутов и dunder переменных.\n",
    "\n",
    "Маленькая заметка: полностью всё заменить невозможно. Например, `function()` можно записать как `function.__call__()`, но при этом мы всё ещё не избавляемся от скобочек, так что можно делать так до бесконечности `function.__call__.__call__.__call__.__call__.....__call__()` и при всём при этом мы ещё не избавляемся от `.` для доступа к атрибутам. В общем, замените всё, что получится, не закапываясь в повторы, как в приведённом примере. Чем больше разных методов вы найдёте и используете, тем лучше и тем выше будет балл\n",
    "\n",
    "Код по итогу дожен работать и печатать число **4420.0**, как в примере. Структуру кода менять нельзя, просто изменяем конструкции на синонимичные\n",
    "\n",
    "И ещё маленькая подсказка. Заменить здесь можно всё кроме:\n",
    "+ Конструкции `for ... in ...`:\n",
    "+ Синтаксиса создания лямбда функции\n",
    "+ Оператора присваивания `=`\n",
    "+ Конструкции `if-else`"
   ]
  },
  {
   "cell_type": "code",
   "execution_count": 39,
   "id": "a87cff2a-7168-470d-b38f-1cb5a60ac0c4",
   "metadata": {},
   "outputs": [
    {
     "name": "stdout",
     "output_type": "stream",
     "text": [
      "4420.0\n"
     ]
    }
   ],
   "source": [
    "import numpy as np\n",
    "\n",
    "\n",
    "matrix = []\n",
    "for idx in range(0, 100, 10):\n",
    "    matrix += [list(range(idx, idx + 10))]\n",
    "    \n",
    "selected_columns_indices = list(filter(lambda x: x in range(1, 5, 2), range(len(matrix))))\n",
    "selected_columns = map(lambda x: [x[col] for col in selected_columns_indices], matrix)\n",
    "\n",
    "arr = np.array(list(selected_columns))\n",
    "\n",
    "mask = arr[:, 1] % 3 == 0\n",
    "new_arr = arr[mask]\n",
    "\n",
    "product = new_arr @ new_arr.T\n",
    "\n",
    "if (product[0] < 1000).all() and (product[2] > 1000).any():\n",
    "    print(product.mean())"
   ]
  },
  {
   "cell_type": "code",
   "execution_count": 40,
   "id": "85b69abc-1dc4-4e98-8acd-2ea971ea0ea6",
   "metadata": {
    "tags": []
   },
   "outputs": [
    {
     "name": "stdout",
     "output_type": "stream",
     "text": [
      "4420.0\n"
     ]
    }
   ],
   "source": [
    "import numpy as np\n",
    "\n",
    "\n",
    "matrix = []\n",
    "for idx in range(0, 100, 10):\n",
    "    matrix.__iadd__([list.__call__(range(idx, idx.__add__(10)))])\n",
    "    \n",
    "selected_columns_indices = list.__call__(filter.__call__(lambda x: x in range(1, 5, 2), range(matrix.__len__())))\n",
    "selected_columns = map(lambda x: list.__call__(x.__getitem__(col) for col in selected_columns_indices), matrix)\n",
    "\n",
    "arr = np.array(list.__call__(selected_columns))\n",
    "\n",
    "mask = arr[:, 1].__mod__(3).__eq__(0)\n",
    "new_arr = arr.__getitem__(mask)\n",
    "\n",
    "product = new_arr.__matmul__(new_arr.T)\n",
    "\n",
    "if (all.__call__(product.__getitem__(0).__le__(1000))).__and__(any.__call__(product.__getitem__(2).__gt__(1000))):\n",
    "    print.__call__(product.mean().__str__())"
   ]
  },
  {
   "cell_type": "markdown",
   "id": "e90e5938-cabe-4ee1-9a88-73f25b3b67c3",
   "metadata": {},
   "source": [
    "# Задание 5 (10 баллов)"
   ]
  },
  {
   "cell_type": "markdown",
   "id": "0e58f6a8-7bb8-45f0-b14d-3bcd1f1ba5a9",
   "metadata": {},
   "source": [
    "Напишите абстрактный класс `BiologicalSequence`, который задаёт следующий интерфейс:\n",
    "+ Работа с функцией `len`\n",
    "+ Возможность получать элементы по индексу и делать срезы последовательности (аналогично строкам)\n",
    "+ Вывод на печать в удобном виде и возможность конвертации в строку\n",
    "+ Возможность проверить алфавит последовательности на корректность\n",
    "\n",
    "Напишите класс `NucleicAcidSequence`:\n",
    "+ Данный класс реализует интерфейс `BiologicalSequence`\n",
    "+ Данный класс имеет новый метод `complement`, возвращающий комплементарную последовательность\n",
    "+ Данный класс имеет новый метод `gc_content`, возвращающий GC-состав (без разницы, в процентах или в долях)\n",
    "\n",
    "Напишите классы наследники `NucleicAcidSequence`: `DNASequence` и `RNASequence`\n",
    "+ `DNASequence` должен иметь метод `transcribe`, возвращающий транскрибированную РНК-последовательность\n",
    "+ Данные классы не должны иметь <ins>публичных методов</ins> `complement` и метода для проверки алфавита, так как они уже должны быть реализованы в `NucleicAcidSequence`.\n",
    "\n",
    "Напишите класс `AminoAcidSequence`:\n",
    "+ Данный класс реализует интерфейс `BiologicalSequence`\n",
    "+ Добавьте этому классу один любой метод, подходящий по смыслу к аминокислотной последовательности. Например, метод для нахождения изоэлектрической точки, молекулярного веса и т.д.\n",
    "\n",
    "Комментарий по поводу метода `NucleicAcidSequence.complement`, так как я хочу, чтобы вы сделали его опредедённым образом:\n",
    "\n",
    "При вызове `dna.complement()` или условного `dna.check_alphabet()` должны будут вызываться соответствующие методы из `NucleicAcidSequence`. При этом, данный метод должен обладать свойством полиморфизма, иначе говоря, внутри `complement` не надо делать условия а-ля `if seuqence_type == \"DNA\": return self.complement_dna()`, это крайне не гибко. Данный метод должен опираться на какой-то общий интерфейс между ДНК и РНК. Создание экземпляров `NucleicAcidSequence` не подразумевается, поэтому код `NucleicAcidSequence(\"ATGC\").complement()` не обязан работать, а в идеале должен кидать исключение `NotImplementedError` при вызове от экземпляра `NucleicAcidSequence`\n",
    "\n",
    "Вся сложность задания в том, чтобы правильно организовать код. Если у вас есть повторяющийся код в сестринских классах или родительском и дочернем, значит вы что-то делаете не так.\n",
    "\n",
    "\n",
    "Маленькое замечание: По-хорошему, между классом `BiologicalSequence` и классами `NucleicAcidSequence` и `AminoAcidSequence`, ещё должен быть класс-прослойка, частично реализующий интерфейс `BiologicalSequence`, но его писать не обязательно, так как задание и так довольно большое (правда из-за этого у вас неминуемо возникнет повторяющийся код в классах `NucleicAcidSequence` и `AminoAcidSequence`)"
   ]
  },
  {
   "cell_type": "code",
   "execution_count": 41,
   "id": "f17d5d3f-9982-4271-a987-3af7bc071c42",
   "metadata": {},
   "outputs": [],
   "source": [
    "from abc import ABC, abstractmethod\n",
    "\n",
    "class BiologicalSequence(ABC):\n",
    "    \n",
    "    @abstractmethod\n",
    "    def __len__(self):\n",
    "        pass\n",
    "\n",
    "    @abstractmethod\n",
    "    def __getitem__(self, slc):\n",
    "        pass\n",
    "    \n",
    "    @abstractmethod\n",
    "    def __str__(self):\n",
    "        pass\n",
    "    \n",
    "    @abstractmethod\n",
    "    def check_alphabet(self):\n",
    "        pass\n",
    "    \n",
    "    \n",
    "class SequenceIncorrectionError(Warning):  \n",
    "    \n",
    "    def __str__(cls):\n",
    "        return 'Your sequence does not match with alphabet. See standart alphabet of class using attribute .alphabet'"
   ]
  },
  {
   "cell_type": "code",
   "execution_count": 42,
   "id": "09d27270-94ed-4f9f-b3a2-d57a05d65ea7",
   "metadata": {},
   "outputs": [],
   "source": [
    "class ClassicalPolymer(BiologicalSequence):\n",
    "    \n",
    "    def __init__(self, sequence):\n",
    "        self.sequence = sequence\n",
    "        self.standard_alphabet = {'DNA' : {'t', 'g', 'c', 'a'},\n",
    "                                  'RNA' : {'u', 'g', 'c', 'a'},\n",
    "                                  'Protein' : {'a', 'c', 'd', 'e', 'f', 'g', 'h', 'i', 'k', 'l', 'm', 'n','p', 'q', 'r', 's', 't', 'v', 'w', 'y'}}\n",
    "    \n",
    "    def __len__(self):\n",
    "        return len(self.sequence)\n",
    "\n",
    "    def __getitem__(self, slc):\n",
    "        return type(self)(self.sequence[slc])\n",
    "    \n",
    "    def __str__(self):\n",
    "        return str(self.sequence)\n",
    "    \n",
    "    def __repr__(self):\n",
    "        return 'Sequence: ' + str(self.sequence)\n",
    "    \n",
    "    def check_alphabet(self):\n",
    "        if isinstance(self, DNASequence):\n",
    "            self.alphabet = self.standard_alphabet['DNA']\n",
    "        elif isinstance(self, RNASequence):\n",
    "            self.alphabet = self.standard_alphabet['RNA']\n",
    "        elif isinstance(self, AminoAcidSequence):\n",
    "            self.alphabet = self.standard_alphabet['Protein']\n",
    "        else:\n",
    "            raise BaseException('Nonstandard input')   # in case of carbohydrates in future\n",
    "            \n",
    "        if set(self.sequence.lower()) <= self.alphabet:\n",
    "            return True\n",
    "        else:\n",
    "            raise SequenceIncorrectionError"
   ]
  },
  {
   "cell_type": "code",
   "execution_count": 43,
   "id": "af496331-7d95-42b3-ae51-7ce7df080fac",
   "metadata": {},
   "outputs": [],
   "source": [
    "class NucleicAcidSequence(ClassicalPolymer):\n",
    "    \n",
    "    def complement(self):\n",
    "        if isinstance(self, DNASequence) or isinstance(self, RNASequence): \n",
    "            table = str.maketrans('aAgGcCtTuU', 'tTcCgGaAaA')\n",
    "            return type(self)(self.sequence.translate(table))\n",
    "        else:\n",
    "            raise NotImplementedError('Only for DNA and RNA subclasses') \n",
    "    \n",
    "    def gc_content(self):\n",
    "        return self.sequence.lower().count('g' and 'c') / len(self)\n",
    "    \n",
    "class AminoAcidSequence(ClassicalPolymer):\n",
    "    \n",
    "    def charge(self):\n",
    "        return self.sequence.lower().count('e' and 'd') * -1 + self.sequence.lower().count('k' and 'r')\n",
    "        \n",
    "    def lazy_mass(self):\n",
    "        print('Use, if you are really lazy or you very like my classes')\n",
    "        return len(self.sequence) * 110\n",
    "              "
   ]
  },
  {
   "cell_type": "code",
   "execution_count": 44,
   "id": "22fd9ff7-de6f-4a97-84a5-e541edd0653e",
   "metadata": {},
   "outputs": [],
   "source": [
    "class DNASequence(NucleicAcidSequence):\n",
    "    \n",
    "    # transcribe according to coding chain\n",
    "    def transcribe(self):     \n",
    "        table = str.maketrans('aAgGcCtT', 'uUcCgGaA')\n",
    "        return type(self)(self.sequence.translate(table))\n",
    "    \n",
    "class RNASequence(NucleicAcidSequence):\n",
    "    pass"
   ]
  },
  {
   "cell_type": "markdown",
   "id": "893f48dc-df0e-4447-98bf-10fabf5781ad",
   "metadata": {},
   "source": [
    "Пример DNASequence: длина, слайсы, вывод repr"
   ]
  },
  {
   "cell_type": "code",
   "execution_count": 45,
   "id": "763d63a1-f14b-4435-8495-0145f23e6fd5",
   "metadata": {},
   "outputs": [],
   "source": [
    "dna = DNASequence('ACGTATT')"
   ]
  },
  {
   "cell_type": "code",
   "execution_count": 46,
   "id": "313c8806-c189-4b1b-b9d6-2310bbff4a2a",
   "metadata": {},
   "outputs": [],
   "source": [
    "part_dna = dna[0:4]"
   ]
  },
  {
   "cell_type": "code",
   "execution_count": 47,
   "id": "2ec2e37f-b662-4b0c-9e77-adca82db81d3",
   "metadata": {},
   "outputs": [
    {
     "data": {
      "text/plain": [
       "Sequence: ACGT"
      ]
     },
     "execution_count": 47,
     "metadata": {},
     "output_type": "execute_result"
    }
   ],
   "source": [
    "part_dna"
   ]
  },
  {
   "cell_type": "code",
   "execution_count": 48,
   "id": "b6382a6a-01c9-4763-8673-95f61fe25fd1",
   "metadata": {},
   "outputs": [
    {
     "data": {
      "text/plain": [
       "7"
      ]
     },
     "execution_count": 48,
     "metadata": {},
     "output_type": "execute_result"
    }
   ],
   "source": [
    "len(dna)"
   ]
  },
  {
   "cell_type": "markdown",
   "id": "6c9c9506-24d9-4b41-b63a-0a32f078e9b8",
   "metadata": {},
   "source": [
    "Особые свойства DNASequence: complement, gc_content, transcribe (в том числе строчные)"
   ]
  },
  {
   "cell_type": "code",
   "execution_count": 49,
   "id": "8095390c-1d8f-4709-ab8a-e78a5763e3a9",
   "metadata": {},
   "outputs": [
    {
     "data": {
      "text/plain": [
       "Sequence: TGCATAA"
      ]
     },
     "execution_count": 49,
     "metadata": {},
     "output_type": "execute_result"
    }
   ],
   "source": [
    "dna.complement()"
   ]
  },
  {
   "cell_type": "code",
   "execution_count": 50,
   "id": "d0ed0c4a-748f-4fe2-b25b-3520d9001c01",
   "metadata": {},
   "outputs": [],
   "source": [
    "small_dna = DNASequence('ACGTATT'.lower())"
   ]
  },
  {
   "cell_type": "code",
   "execution_count": 51,
   "id": "d1809e47-0759-4633-8917-490e49904fa4",
   "metadata": {
    "tags": []
   },
   "outputs": [
    {
     "data": {
      "text/plain": [
       "Sequence: tgcataa"
      ]
     },
     "execution_count": 51,
     "metadata": {},
     "output_type": "execute_result"
    }
   ],
   "source": [
    "small_dna.complement()"
   ]
  },
  {
   "cell_type": "code",
   "execution_count": 52,
   "id": "aff51e7d-f2a7-4e7e-a1fd-e1e97e3f539d",
   "metadata": {},
   "outputs": [
    {
     "data": {
      "text/plain": [
       "0.14285714285714285"
      ]
     },
     "execution_count": 52,
     "metadata": {},
     "output_type": "execute_result"
    }
   ],
   "source": [
    "dna.gc_content()"
   ]
  },
  {
   "cell_type": "code",
   "execution_count": 53,
   "id": "b70f8fa4-2542-4b67-87a0-cb854b87124e",
   "metadata": {},
   "outputs": [
    {
     "data": {
      "text/plain": [
       "Sequence: UGCAUAA"
      ]
     },
     "execution_count": 53,
     "metadata": {},
     "output_type": "execute_result"
    }
   ],
   "source": [
    "dna.transcribe()"
   ]
  },
  {
   "cell_type": "markdown",
   "id": "82e11bbb-cd68-410e-a4f2-3624883d505e",
   "metadata": {},
   "source": [
    "Свойства RNASequence, вывод на печать и вывод алфавита"
   ]
  },
  {
   "cell_type": "code",
   "execution_count": 54,
   "id": "de9bee43-0200-4c40-8e03-d884040e58b0",
   "metadata": {},
   "outputs": [],
   "source": [
    "rna = RNASequence('ACGUACU')"
   ]
  },
  {
   "cell_type": "code",
   "execution_count": 55,
   "id": "d1790bd4-065f-40dd-865e-77bfd032b6f5",
   "metadata": {},
   "outputs": [
    {
     "name": "stdout",
     "output_type": "stream",
     "text": [
      "ACGUACU\n"
     ]
    }
   ],
   "source": [
    "print(rna)"
   ]
  },
  {
   "cell_type": "code",
   "execution_count": 56,
   "id": "24f2f594-a87d-4a7c-bd79-5dfe2caa41eb",
   "metadata": {},
   "outputs": [
    {
     "data": {
      "text/plain": [
       "True"
      ]
     },
     "execution_count": 56,
     "metadata": {},
     "output_type": "execute_result"
    }
   ],
   "source": [
    "rna.check_alphabet()"
   ]
  },
  {
   "cell_type": "code",
   "execution_count": 57,
   "id": "7227190c-832b-4356-a417-677454053e58",
   "metadata": {},
   "outputs": [
    {
     "data": {
      "text/plain": [
       "{'a', 'c', 'g', 'u'}"
      ]
     },
     "execution_count": 57,
     "metadata": {},
     "output_type": "execute_result"
    }
   ],
   "source": [
    "rna.alphabet"
   ]
  },
  {
   "cell_type": "code",
   "execution_count": 58,
   "id": "64165b63-625f-4200-8704-5403d0ca0380",
   "metadata": {},
   "outputs": [
    {
     "data": {
      "text/plain": [
       "0.2857142857142857"
      ]
     },
     "execution_count": 58,
     "metadata": {},
     "output_type": "execute_result"
    }
   ],
   "source": [
    "rna.gc_content()"
   ]
  },
  {
   "cell_type": "markdown",
   "id": "9b41b442-cd24-402f-b89f-c15625c79af7",
   "metadata": {},
   "source": [
    "AminoAcidSequence и ошибка при некорректном алфавите"
   ]
  },
  {
   "cell_type": "code",
   "execution_count": 59,
   "id": "d2b76eee-2a09-4480-ac11-af5356074fb7",
   "metadata": {},
   "outputs": [],
   "source": [
    "nonprotein = AminoAcidSequence('UUUU')"
   ]
  },
  {
   "cell_type": "code",
   "execution_count": 60,
   "id": "daa583e9-c287-4cc7-ac95-8620475d2579",
   "metadata": {},
   "outputs": [
    {
     "ename": "SequenceIncorrectionError",
     "evalue": "Your sequence does not match with alphabet. See standart alphabet of class using attribute .alphabet",
     "output_type": "error",
     "traceback": [
      "\u001b[1;31m---------------------------------------------------------------------------\u001b[0m",
      "\u001b[1;31mSequenceIncorrectionError\u001b[0m                 Traceback (most recent call last)",
      "Input \u001b[1;32mIn [60]\u001b[0m, in \u001b[0;36m<cell line: 1>\u001b[1;34m()\u001b[0m\n\u001b[1;32m----> 1\u001b[0m \u001b[43mnonprotein\u001b[49m\u001b[38;5;241;43m.\u001b[39;49m\u001b[43mcheck_alphabet\u001b[49m\u001b[43m(\u001b[49m\u001b[43m)\u001b[49m\n",
      "Input \u001b[1;32mIn [42]\u001b[0m, in \u001b[0;36mClassicalPolymer.check_alphabet\u001b[1;34m(self)\u001b[0m\n\u001b[0;32m     32\u001b[0m     \u001b[38;5;28;01mreturn\u001b[39;00m \u001b[38;5;28;01mTrue\u001b[39;00m\n\u001b[0;32m     33\u001b[0m \u001b[38;5;28;01melse\u001b[39;00m:\n\u001b[1;32m---> 34\u001b[0m     \u001b[38;5;28;01mraise\u001b[39;00m SequenceIncorrectionError\n",
      "\u001b[1;31mSequenceIncorrectionError\u001b[0m: Your sequence does not match with alphabet. See standart alphabet of class using attribute .alphabet"
     ]
    }
   ],
   "source": [
    "nonprotein.check_alphabet()"
   ]
  },
  {
   "cell_type": "code",
   "execution_count": 61,
   "id": "b02f47fc-295a-48f3-95f2-79328abadf48",
   "metadata": {},
   "outputs": [],
   "source": [
    "protein = AminoAcidSequence('CYIGNCPLG')"
   ]
  },
  {
   "cell_type": "code",
   "execution_count": 62,
   "id": "5814b40d-3d95-40d5-9bda-623a3fe2b8a8",
   "metadata": {},
   "outputs": [
    {
     "data": {
      "text/plain": [
       "True"
      ]
     },
     "execution_count": 62,
     "metadata": {},
     "output_type": "execute_result"
    }
   ],
   "source": [
    "protein.check_alphabet()"
   ]
  },
  {
   "cell_type": "code",
   "execution_count": 63,
   "id": "f55e806a-75aa-42af-af99-5bb311316093",
   "metadata": {},
   "outputs": [
    {
     "data": {
      "text/plain": [
       "0"
      ]
     },
     "execution_count": 63,
     "metadata": {},
     "output_type": "execute_result"
    }
   ],
   "source": [
    "protein.charge()"
   ]
  },
  {
   "cell_type": "code",
   "execution_count": 64,
   "id": "489339d5-9478-4299-b09c-78147c2a5310",
   "metadata": {},
   "outputs": [
    {
     "name": "stdout",
     "output_type": "stream",
     "text": [
      "Use, if you are really lazy or you very like my classes\n"
     ]
    },
    {
     "data": {
      "text/plain": [
       "990"
      ]
     },
     "execution_count": 64,
     "metadata": {},
     "output_type": "execute_result"
    }
   ],
   "source": [
    "protein.lazy_mass()"
   ]
  },
  {
   "cell_type": "code",
   "execution_count": 65,
   "id": "3004329a-e49c-49de-beda-0884f0cbcda4",
   "metadata": {},
   "outputs": [],
   "source": [
    "nucl_acid = NucleicAcidSequence('ACGT')"
   ]
  },
  {
   "cell_type": "code",
   "execution_count": 66,
   "id": "8c1711c6-9bae-4f14-aa3e-83252ad44146",
   "metadata": {},
   "outputs": [
    {
     "ename": "NotImplementedError",
     "evalue": "Only for DNA and RNA subclasses",
     "output_type": "error",
     "traceback": [
      "\u001b[1;31m---------------------------------------------------------------------------\u001b[0m",
      "\u001b[1;31mNotImplementedError\u001b[0m                       Traceback (most recent call last)",
      "Input \u001b[1;32mIn [66]\u001b[0m, in \u001b[0;36m<cell line: 1>\u001b[1;34m()\u001b[0m\n\u001b[1;32m----> 1\u001b[0m \u001b[43mnucl_acid\u001b[49m\u001b[38;5;241;43m.\u001b[39;49m\u001b[43mcomplement\u001b[49m\u001b[43m(\u001b[49m\u001b[43m)\u001b[49m\n",
      "Input \u001b[1;32mIn [43]\u001b[0m, in \u001b[0;36mNucleicAcidSequence.complement\u001b[1;34m(self)\u001b[0m\n\u001b[0;32m      6\u001b[0m     \u001b[38;5;28;01mreturn\u001b[39;00m \u001b[38;5;28mtype\u001b[39m(\u001b[38;5;28mself\u001b[39m)(\u001b[38;5;28mself\u001b[39m\u001b[38;5;241m.\u001b[39msequence\u001b[38;5;241m.\u001b[39mtranslate(table))\n\u001b[0;32m      7\u001b[0m \u001b[38;5;28;01melse\u001b[39;00m:\n\u001b[1;32m----> 8\u001b[0m     \u001b[38;5;28;01mraise\u001b[39;00m \u001b[38;5;167;01mNotImplementedError\u001b[39;00m(\u001b[38;5;124m'\u001b[39m\u001b[38;5;124mOnly for DNA and RNA subclasses\u001b[39m\u001b[38;5;124m'\u001b[39m)\n",
      "\u001b[1;31mNotImplementedError\u001b[0m: Only for DNA and RNA subclasses"
     ]
    }
   ],
   "source": [
    "nucl_acid.complement()"
   ]
  }
 ],
 "metadata": {
  "kernelspec": {
   "display_name": "Python 3 (ipykernel)",
   "language": "python",
   "name": "python3"
  },
  "language_info": {
   "codemirror_mode": {
    "name": "ipython",
    "version": 3
   },
   "file_extension": ".py",
   "mimetype": "text/x-python",
   "name": "python",
   "nbconvert_exporter": "python",
   "pygments_lexer": "ipython3",
   "version": "3.9.12"
  }
 },
 "nbformat": 4,
 "nbformat_minor": 5
}
