{
 "cells": [
  {
   "cell_type": "markdown",
   "id": "91810b4d-6e21-4344-b337-0c719dd62b88",
   "metadata": {
    "tags": []
   },
   "source": [
    "### 1 task (sequential map)"
   ]
  },
  {
   "cell_type": "code",
   "execution_count": 103,
   "id": "b77fd74b-b4c0-4223-bff6-93f7aae26de5",
   "metadata": {},
   "outputs": [],
   "source": [
    "def sequential_map(*args):\n",
    "    if len(args[-1]) == 0:\n",
    "        return None\n",
    "    temp = map(args[0], args[-1])\n",
    "    for function in args[1:-1]:\n",
    "        temp = map(function, temp)\n",
    "    return list(temp)"
   ]
  },
  {
   "cell_type": "code",
   "execution_count": 104,
   "id": "a85a93d9-6e84-43cb-9b70-779a89de407a",
   "metadata": {},
   "outputs": [
    {
     "data": {
      "text/plain": [
       "[1.0, 8.0, 27.0, 64.0, 125.0]"
      ]
     },
     "execution_count": 104,
     "metadata": {},
     "output_type": "execute_result"
    }
   ],
   "source": [
    "import numpy as np\n",
    "sequential_map(np.square, np.sqrt, lambda x: x**3, [1, 2, 3, 4, 5])"
   ]
  },
  {
   "cell_type": "markdown",
   "id": "f3c7216a-17cc-4e92-ac32-b5f6c0df9060",
   "metadata": {},
   "source": [
    "### 2 task (consensus filter)"
   ]
  },
  {
   "cell_type": "code",
   "execution_count": 23,
   "id": "a7acfcf2-8002-4611-914b-31bae65e8e96",
   "metadata": {},
   "outputs": [],
   "source": [
    "def consensus_filter(*args):\n",
    "    if len(args[-1]) == 0:\n",
    "        return None\n",
    "    temp = filter(args[0], args[-1])\n",
    "    for function in args[1:-1]:\n",
    "        temp = filter(function, temp)\n",
    "    return list(temp)"
   ]
  },
  {
   "cell_type": "code",
   "execution_count": 24,
   "id": "029ef42c-513c-4e78-938f-2dff5e874099",
   "metadata": {},
   "outputs": [
    {
     "data": {
      "text/plain": [
       "[6]"
      ]
     },
     "execution_count": 24,
     "metadata": {},
     "output_type": "execute_result"
    }
   ],
   "source": [
    "consensus_filter(lambda x: x > 0, lambda x: x > 5, lambda x: x < 10, [-2, 0, 4, 6, 11])"
   ]
  },
  {
   "cell_type": "markdown",
   "id": "da1d96c7-059a-446c-8823-4071b482169e",
   "metadata": {},
   "source": [
    "### 3 task (conditional reduce)"
   ]
  },
  {
   "cell_type": "code",
   "execution_count": 26,
   "id": "80b52fcf-3fd8-46cb-9afe-005a443541c8",
   "metadata": {},
   "outputs": [],
   "source": [
    "def conditional_reduce(function1, function2, container):\n",
    "    if len(container) == 0:\n",
    "        return None\n",
    "    temp = list(filter(function1, container))\n",
    "    if len(temp) < 2:\n",
    "        return None\n",
    "    answer = function2(temp[0], temp[1])\n",
    "    for i in temp[2:]:\n",
    "        answer = function2(answer, i)\n",
    "    return answer"
   ]
  },
  {
   "cell_type": "code",
   "execution_count": 30,
   "id": "24a219a9-a8f4-4dec-9fd3-a757a638bf07",
   "metadata": {},
   "outputs": [
    {
     "data": {
      "text/plain": [
       "45"
      ]
     },
     "execution_count": 30,
     "metadata": {},
     "output_type": "execute_result"
    }
   ],
   "source": [
    "conditional_reduce(lambda x: x > 8, lambda x, y: x + y, [1, 3, 15, 10, 20])"
   ]
  },
  {
   "attachments": {},
   "cell_type": "markdown",
   "id": "d7322b4c-3df1-4390-8eb0-ce9b22ee1588",
   "metadata": {},
   "source": [
    "### 4 task (functional chain)"
   ]
  },
  {
   "cell_type": "code",
   "execution_count": 112,
   "id": "2e9d59de-125a-43ab-963d-84aaec40cd1b",
   "metadata": {},
   "outputs": [],
   "source": [
    "def func_chain(*args):\n",
    "    def execute(*value):\n",
    "        temp = map(args[0], value)\n",
    "        for function in args[1:]:\n",
    "            temp = map(function, temp)\n",
    "        return tuple(temp)\n",
    "    return execute"
   ]
  },
  {
   "cell_type": "code",
   "execution_count": 113,
   "id": "037caa87-dfe1-4586-9533-8977aa5eadc7",
   "metadata": {},
   "outputs": [
    {
     "data": {
      "text/plain": [
       "((21.75, 21), (18.5, 18))"
      ]
     },
     "execution_count": 113,
     "metadata": {},
     "output_type": "execute_result"
    }
   ],
   "source": [
    "my_chain = func_chain(lambda x: x + 7, lambda x: (x/4, x//4))\n",
    "my_chain(80, 67)"
   ]
  },
  {
   "cell_type": "markdown",
   "id": "b0b9f066-f0a1-49ab-8213-e6415b92abbb",
   "metadata": {},
   "source": [
    "### 5 task (integrated)"
   ]
  },
  {
   "cell_type": "code",
   "execution_count": 141,
   "id": "234f47e2-5e23-4212-afea-ea108068e29e",
   "metadata": {},
   "outputs": [],
   "source": [
    "def sequential_map_improved(*args):\n",
    "    unit = func_chain(*args[:-1])\n",
    "    return unit(*args[-1])"
   ]
  },
  {
   "cell_type": "code",
   "execution_count": 142,
   "id": "46ef9bfe-bd63-4b41-ab89-251f03ec12d3",
   "metadata": {},
   "outputs": [
    {
     "data": {
      "text/plain": [
       "(1.0, 8.0, 27.0, 64.0, 125.0)"
      ]
     },
     "execution_count": 142,
     "metadata": {},
     "output_type": "execute_result"
    }
   ],
   "source": [
    "sequential_map_improved(np.square, np.sqrt, lambda x: x**3, [1, 2, 3, 4, 5])"
   ]
  },
  {
   "cell_type": "markdown",
   "id": "dcd9bc87-c059-4d80-b42e-a4084fa40264",
   "metadata": {},
   "source": [
    "### 6 task (multiple partial)"
   ]
  },
  {
   "cell_type": "code",
   "execution_count": 314,
   "id": "18d0efb5-3255-472f-a756-af58d1012d2a",
   "metadata": {},
   "outputs": [],
   "source": [
    "def multiple_partial(*args, **keywords):\n",
    "    answer=[]\n",
    "    def modify(func, **keywords):\n",
    "        def alter(*new_args, **new_keywords):\n",
    "            newkeywords = {**keywords, **new_keywords}\n",
    "            return func(*new_args, **newkeywords)\n",
    "        return alter\n",
    "    for function in args:\n",
    "        changed_function = modify(function, **keywords)\n",
    "        answer.append(changed_function)\n",
    "    return answer"
   ]
  },
  {
   "cell_type": "code",
   "execution_count": 318,
   "id": "cc4d9e58-e3a9-4b2e-a95e-2039c107286f",
   "metadata": {},
   "outputs": [
    {
     "data": {
      "text/plain": [
       "array([ 1,  3,  5,  7,  9, 11, 13, 15])"
      ]
     },
     "execution_count": 318,
     "metadata": {},
     "output_type": "execute_result"
    }
   ],
   "source": [
    "ax1_mean, ax1_max, ax1_sum = multiple_partial(np.mean, np.max, np.sum, axis=1)\n",
    "ax1_max(irst_array)"
   ]
  },
  {
   "cell_type": "code",
   "execution_count": 319,
   "id": "a2e94699-5968-4bc2-ade0-367ad33e5161",
   "metadata": {},
   "outputs": [
    {
     "data": {
      "text/plain": [
       "0.5"
      ]
     },
     "execution_count": 319,
     "metadata": {},
     "output_type": "execute_result"
    }
   ],
   "source": [
    "anti_max, anti_min = multiple_partial(max, min, key=lambda x: -x)\n",
    "anti_max(1, 8, 7, 0.5)"
   ]
  },
  {
   "cell_type": "markdown",
   "id": "ab04702d-9dc1-4dd9-8fcd-5b91c4f46735",
   "metadata": {},
   "source": [
    "### 7 task (bicycled print)"
   ]
  },
  {
   "cell_type": "code",
   "execution_count": 357,
   "id": "6973a75d-4a76-43b1-bbe4-3c4281bb33e8",
   "metadata": {},
   "outputs": [],
   "source": [
    "import sys\n",
    "\n",
    "def bicycled_print(*args, sep=' ', end='\\n', file=sys.stdout):\n",
    "    gap = list(map(str, args))\n",
    "    result = sep.join(gap)\n",
    "    result = ''.join([result, end])\n",
    "    \n",
    "    if file != sys.stdout:\n",
    "        with open (f'{file}', 'w') as output:\n",
    "            output.write(result)\n",
    "    else:\n",
    "        sys.stdout.write(result)    "
   ]
  },
  {
   "cell_type": "code",
   "execution_count": 360,
   "id": "ec400e91-9001-435f-bd71-61824c70fe85",
   "metadata": {},
   "outputs": [
    {
     "name": "stdout",
     "output_type": "stream",
     "text": [
      "dfgd    fghf    5\n"
     ]
    }
   ],
   "source": [
    "bicycled_print('dfgd', 'fghf', 5, sep='    ', end='\\n')"
   ]
  }
 ],
 "metadata": {
  "kernelspec": {
   "display_name": "Python 3.10.6",
   "language": "python",
   "name": "python3"
  },
  "language_info": {
   "codemirror_mode": {
    "name": "ipython",
    "version": 3
   },
   "file_extension": ".py",
   "mimetype": "text/x-python",
   "name": "python",
   "nbconvert_exporter": "python",
   "pygments_lexer": "ipython3",
   "version": "3.10.6"
  },
  "vscode": {
   "interpreter": {
    "hash": "09bff6fc09c5667f88043f60dfbcfd596e611ae3ed1e66aabc0ce498e9856cc8"
   }
  }
 },
 "nbformat": 4,
 "nbformat_minor": 5
}
