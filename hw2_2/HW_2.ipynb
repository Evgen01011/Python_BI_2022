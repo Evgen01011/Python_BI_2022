{
 "cells": [
  {
   "cell_type": "markdown",
   "id": "72f5013c-f4b9-4a1f-aed9-7e47623e7c8a",
   "metadata": {},
   "source": [
    "# Задание 1 (2 балла)"
   ]
  },
  {
   "cell_type": "markdown",
   "id": "0e818fc0-4716-45c6-8942-7b60da358200",
   "metadata": {},
   "source": [
    "Напишите класс `MyDict`, который будет полностью повторять поведение обычного словаря, за исключением того, что при итерации мы должны получать и ключи, и значения.\n",
    "\n",
    "**Модули использовать нельзя**"
   ]
  },
  {
   "cell_type": "code",
   "execution_count": 17,
   "id": "3dc27675-99fc-4040-a8f7-aa20be51c816",
   "metadata": {},
   "outputs": [],
   "source": [
    "class MyDict(dict):\n",
    "    \n",
    "    def __iter__(self):\n",
    "        for item in self.items():\n",
    "            yield item\n",
    "\n",
    "dct = MyDict({\"a\": 1, \"b\": 2, \"c\": 3, \"d\": 25})"
   ]
  },
  {
   "cell_type": "code",
   "execution_count": 18,
   "id": "a96e453e-2553-40b1-889f-cce04c6db771",
   "metadata": {},
   "outputs": [
    {
     "name": "stdout",
     "output_type": "stream",
     "text": [
      "a 1\n",
      "b 2\n",
      "c 3\n",
      "d 25\n"
     ]
    }
   ],
   "source": [
    "dct = MyDict({\"a\": 1, \"b\": 2, \"c\": 3, \"d\": 25})\n",
    "for key, value in dct:\n",
    "    print(key, value)   "
   ]
  },
  {
   "cell_type": "code",
   "execution_count": 19,
   "id": "d3b93507-d88a-4773-8d6f-31990e1effbc",
   "metadata": {},
   "outputs": [
    {
     "name": "stdout",
     "output_type": "stream",
     "text": [
      "a 1\n",
      "b 2\n",
      "c 3\n",
      "d 25\n"
     ]
    }
   ],
   "source": [
    "for key, value in dct.items():\n",
    "    print(key, value)"
   ]
  },
  {
   "cell_type": "code",
   "execution_count": 20,
   "id": "9be2de18-f963-4de0-afba-c183a9a56087",
   "metadata": {},
   "outputs": [
    {
     "name": "stdout",
     "output_type": "stream",
     "text": [
      "a\n",
      "b\n",
      "c\n",
      "d\n"
     ]
    }
   ],
   "source": [
    "for key in dct.keys():\n",
    "    print(key)"
   ]
  },
  {
   "cell_type": "code",
   "execution_count": 21,
   "id": "b7bfbf08-7253-4aab-a9a0-a8e8500c5a29",
   "metadata": {},
   "outputs": [
    {
     "data": {
      "text/plain": [
       "28"
      ]
     },
     "execution_count": 21,
     "metadata": {},
     "output_type": "execute_result"
    }
   ],
   "source": [
    "dct[\"c\"] + dct[\"d\"]"
   ]
  },
  {
   "cell_type": "markdown",
   "id": "4bde5544-afd0-408e-a03b-dad5096ee685",
   "metadata": {},
   "source": [
    "# Задание 2 (2 балла)"
   ]
  },
  {
   "cell_type": "markdown",
   "id": "36e85085-9990-4a2a-a005-f5ef3afd438d",
   "metadata": {},
   "source": [
    "Напишите функцию `iter_append`, которая \"добавляет\" новый элемент в конец итератора, возвращая итератор, который включает изначальные элементы и новый элемент. Итерироваться по итератору внутри функции нельзя, то есть вот такая штука не принимается\n",
    "```python\n",
    "def iter_append(iterator, item):\n",
    "    lst = list(iterator) + [item]\n",
    "    return iter(lst)\n",
    "```\n",
    "\n",
    "**Модули использовать нельзя**"
   ]
  },
  {
   "cell_type": "code",
   "execution_count": 32,
   "id": "d70f202a-0515-4f40-a9b1-4738572a837c",
   "metadata": {},
   "outputs": [
    {
     "name": "stdout",
     "output_type": "stream",
     "text": [
      "1\n",
      "2\n",
      "3\n",
      "4\n"
     ]
    }
   ],
   "source": [
    "def iter_append(iterator, item):\n",
    "    for obj in iterator:\n",
    "        yield obj\n",
    "    yield item\n",
    "        \n",
    "    \n",
    "\n",
    "my_iterator = iter([1, 2, 3])\n",
    "new_iterator = iter_append(my_iterator, 4)\n",
    "\n",
    "for element in new_iterator:\n",
    "    print(element)"
   ]
  },
  {
   "cell_type": "markdown",
   "id": "72c35894-0caf-41ac-a584-56058b243f29",
   "metadata": {},
   "source": [
    "# Задание 3 (5 баллов)"
   ]
  },
  {
   "cell_type": "markdown",
   "id": "884be4ed-b388-4b36-ad7d-d6835a87425e",
   "metadata": {},
   "source": [
    "Представим, что мы установили себе некотурую библиотеку, которая содержит в себе два класса `MyString` и `MySet`, которые являются наследниками `str` и `set`, но также несут и дополнительные методы.\n",
    "\n",
    "Проблема заключается в том, что библиотеку писали не очень аккуратные люди, поэтому получилось так, что некоторые методы возвращают не тот тип данных, который мы ожидаем. Например, `MyString().reverse()` возвращает объект класса `str`, хотя логичнее было бы ожидать объект класса `MyString`.\n",
    "\n",
    "Найдите и реализуйте удобный способ сделать так, чтобы подобные методы возвращали экземпляр текущего класса, а не родительского. При этом **код методов изменять нельзя**\n",
    "\n",
    "**+3 дополнительных балла** за реализацию того, чтобы **унаследованные от `str` и `set` методы** также возвращали объект интересующего нас класса (то есть `MyString.replace(..., ...)` должен возвращать `MyString`). **Переопределять методы нельзя**\n",
    "\n",
    "**Модули использовать нельзя**"
   ]
  },
  {
   "cell_type": "markdown",
   "id": "b59d4535-f222-47d4-ae30-31858e0b1aed",
   "metadata": {
    "tags": []
   },
   "source": [
    "##### Декораторы для функций"
   ]
  },
  {
   "cell_type": "code",
   "execution_count": 52,
   "id": "977b6cde-ad69-47ca-b655-ce2b76e8e06f",
   "metadata": {},
   "outputs": [],
   "source": [
    "def class_changes(func):\n",
    "    def wrapper(self, *args, **kwargs):\n",
    "        func(self, *args, **kwargs)\n",
    "        return type(self)(func(self, *args, **kwargs))\n",
    "    return wrapper"
   ]
  },
  {
   "cell_type": "code",
   "execution_count": 53,
   "id": "9ff8d482-b680-4690-beed-7608df44939c",
   "metadata": {
    "tags": []
   },
   "outputs": [],
   "source": [
    "class MyString(str):\n",
    "    @class_changes\n",
    "    def reverse(self):\n",
    "        return self[::-1]\n",
    "    \n",
    "    @class_changes\n",
    "    def make_uppercase(self):\n",
    "        return \"\".join([chr(ord(char) - 32) if 97 <= ord(char) <= 122 else char for char in self])\n",
    "    \n",
    "    @class_changes\n",
    "    def make_lowercase(self):\n",
    "        return \"\".join([chr(ord(char) + 32) if 65 <= ord(char) <= 90 else char for char in self])\n",
    "    \n",
    "    @class_changes\n",
    "    def capitalize_words(self):\n",
    "        return \" \".join([word.capitalize() for word in self.split()])\n",
    "    \n",
    "    \n",
    "class MySet(set):\n",
    "    \n",
    "    def is_empty(self):\n",
    "        return len(self) == 0\n",
    "    \n",
    "    def has_duplicates(self):\n",
    "        return len(self) != len(set(self))\n",
    "    \n",
    "    @class_changes\n",
    "    def union_with(self, other):\n",
    "        return self.union(other)\n",
    "    \n",
    "    @class_changes\n",
    "    def intersection_with(self, other):\n",
    "        return self.intersection(other)\n",
    "    \n",
    "    @class_changes\n",
    "    def difference_with(self, other):\n",
    "        return self.difference(other)"
   ]
  },
  {
   "cell_type": "code",
   "execution_count": 54,
   "id": "97cf7b3c-dba8-46b2-a330-044af90a975f",
   "metadata": {},
   "outputs": [
    {
     "name": "stdout",
     "output_type": "stream",
     "text": [
      "<class '__main__.MyString'>\n",
      "<class '__main__.MyString'>\n",
      "<class '__main__.MyString'>\n",
      "<class '__main__.MyString'>\n",
      "\n",
      "<class 'bool'>\n",
      "<class 'bool'>\n",
      "<class '__main__.MySet'>\n",
      "<class '__main__.MySet'>\n"
     ]
    }
   ],
   "source": [
    "string_example = MyString(\"Aa Bb Cc\")\n",
    "set_example_1 = MySet({1, 2, 3, 4})\n",
    "set_example_2 = MySet({3, 4, 5, 6, 6})\n",
    "\n",
    "\n",
    "print(type(string_example.reverse()))\n",
    "print(type(string_example.make_uppercase()))\n",
    "print(type(string_example.make_lowercase()))\n",
    "print(type(string_example.capitalize_words()))\n",
    "print()\n",
    "print(type(set_example_1.is_empty()))\n",
    "print(type(set_example_2.has_duplicates()))\n",
    "print(type(set_example_1.union_with(set_example_2)))\n",
    "print(type(set_example_1.difference_with(set_example_2)))"
   ]
  },
  {
   "cell_type": "markdown",
   "id": "d36fe9cd-2027-4949-956e-5f911d96dea5",
   "metadata": {},
   "source": [
    "##### Декораторы для классов"
   ]
  },
  {
   "cell_type": "code",
   "execution_count": 55,
   "id": "cfbfe1c3-79b9-480e-b777-5d8136167be4",
   "metadata": {},
   "outputs": [],
   "source": [
    "def transform(cls):\n",
    "    for attribute in dir(cls):\n",
    "        attr = getattr(cls, attribute)\n",
    "        if callable(attr) and attribute[0:2] != '__':\n",
    "            setattr(cls, attribute, class_changes_mod(attr))\n",
    "    return cls\n",
    "\n",
    "def class_changes_mod(func):\n",
    "    def wrapper(self, *args, **kwargs):\n",
    "        result = func(self, *args, **kwargs)\n",
    "        if isinstance(result, (set, str)):\n",
    "            result = type(self)(result)\n",
    "        return result\n",
    "    return wrapper"
   ]
  },
  {
   "cell_type": "code",
   "execution_count": 56,
   "id": "0e568625-4c6d-4dec-92b2-e9635dd14510",
   "metadata": {},
   "outputs": [
    {
     "name": "stdout",
     "output_type": "stream",
     "text": [
      "<class '__main__.MyString'>\n",
      "<class '__main__.MyString'>\n",
      "<class '__main__.MyString'>\n",
      "<class '__main__.MyString'>\n",
      "\n",
      "<class 'bool'>\n",
      "<class 'bool'>\n",
      "<class '__main__.MySet'>\n",
      "<class '__main__.MySet'>\n",
      "Parent function\n",
      "<class '__main__.MySet'>\n"
     ]
    }
   ],
   "source": [
    "@transform\n",
    "class MyString(str):\n",
    "    def reverse(self):\n",
    "        return self[::-1]\n",
    "    \n",
    "    def make_uppercase(self):\n",
    "        return \"\".join([chr(ord(char) - 32) if 97 <= ord(char) <= 122 else char for char in self])\n",
    "    \n",
    "    def make_lowercase(self):\n",
    "        return \"\".join([chr(ord(char) + 32) if 65 <= ord(char) <= 90 else char for char in self])\n",
    "    \n",
    "    def capitalize_words(self):\n",
    "        return \" \".join([word.capitalize() for word in self.split()])\n",
    "    \n",
    "@transform\n",
    "class MySet(set):\n",
    "    def is_empty(self):\n",
    "        return len(self) == 0\n",
    "    \n",
    "    def has_duplicates(self):\n",
    "        return len(self) != len(set(self))\n",
    "    \n",
    "    def union_with(self, other):\n",
    "        return self.union(other)\n",
    "    \n",
    "    def intersection_with(self, other):\n",
    "        return self.intersection(other)\n",
    "    \n",
    "    def difference_with(self, other):\n",
    "        return self.difference(other)\n",
    "    \n",
    "string_example = MyString(\"Aa Bb Cc\")\n",
    "set_example_1 = MySet({1, 2, 3, 4})\n",
    "set_example_2 = MySet({3, 4, 5, 6, 6})\n",
    "\n",
    "\n",
    "print(type(string_example.reverse()))\n",
    "print(type(string_example.make_uppercase()))\n",
    "print(type(string_example.make_lowercase()))\n",
    "print(type(string_example.capitalize_words()))\n",
    "print()\n",
    "print(type(set_example_1.is_empty()))\n",
    "print(type(set_example_2.has_duplicates()))\n",
    "print(type(set_example_1.union_with(set_example_2)))\n",
    "print(type(set_example_1.difference_with(set_example_2)))\n",
    "print('Parent function')\n",
    "print(type(set_example_1.union(set_example_2)))"
   ]
  },
  {
   "cell_type": "markdown",
   "id": "f246ecea-9aaa-45c6-98e4-996dc9cdce14",
   "metadata": {},
   "source": [
    "# Задание 4 (5 баллов)"
   ]
  },
  {
   "cell_type": "markdown",
   "id": "e66831d7-df9c-4778-9942-bbb8796fef1e",
   "metadata": {},
   "source": [
    "Напишите декоратор `switch_privacy`:\n",
    "1. Делает все публичные **методы** класса приватными\n",
    "2. Делает все приватные методы класса публичными\n",
    "3. Dunder методы и защищённые методы остаются без изменений\n",
    "4. Должен работать тестовый код ниже, в теле класса писать код нельзя\n",
    "\n",
    "**Модули использовать нельзя**"
   ]
  },
  {
   "cell_type": "code",
   "execution_count": 89,
   "id": "e1e9f5b5-4cf8-4b2f-bfbc-3d413bbe9089",
   "metadata": {},
   "outputs": [],
   "source": [
    "def switch_privacy(cls):\n",
    "    for attr in dir(cls):\n",
    "        if attr[0] != '_':\n",
    "            value = getattr(cls, attr)\n",
    "            setattr(cls, f'_{cls.__name__}__{attr}', value)\n",
    "            delattr(cls, attr)\n",
    "        elif cls.__name__ in attr:\n",
    "            value = getattr(cls, attr)\n",
    "            setattr(cls, attr.replace(f'_{cls.__name__}__', ''), value)\n",
    "            delattr(cls, attr)\n",
    "    return cls\n",
    "    "
   ]
  },
  {
   "cell_type": "code",
   "execution_count": 90,
   "id": "733db8d6-87b8-4797-97be-d3b901422ded",
   "metadata": {},
   "outputs": [],
   "source": [
    "\n",
    "@switch_privacy        \n",
    "class ExampleClass:\n",
    "    # Но не здесь\n",
    "    def public_method(self):\n",
    "        return 1\n",
    "    \n",
    "    def _protected_method(self):\n",
    "        return 2\n",
    "    \n",
    "    def __private_method(self):\n",
    "        return 3\n",
    "    \n",
    "    def __dunder_method__(self):\n",
    "        pass"
   ]
  },
  {
   "cell_type": "code",
   "execution_count": 94,
   "id": "6ed5aec0-fba6-4671-b480-d5c830ae0ab8",
   "metadata": {},
   "outputs": [
    {
     "data": {
      "text/plain": [
       "1"
      ]
     },
     "execution_count": 94,
     "metadata": {},
     "output_type": "execute_result"
    }
   ],
   "source": [
    "test_object._ExampleClass__public_method()   # Публичный метод стал приватным"
   ]
  },
  {
   "cell_type": "code",
   "execution_count": 95,
   "id": "10603672-80cf-460c-9305-d0950094419d",
   "metadata": {},
   "outputs": [
    {
     "data": {
      "text/plain": [
       "3"
      ]
     },
     "execution_count": 95,
     "metadata": {},
     "output_type": "execute_result"
    }
   ],
   "source": [
    "test_object.private_method()   # Приватный метод стал публичным"
   ]
  },
  {
   "cell_type": "code",
   "execution_count": 96,
   "id": "f30b1ef8-0f80-482d-89f1-09caece61c88",
   "metadata": {},
   "outputs": [
    {
     "data": {
      "text/plain": [
       "2"
      ]
     },
     "execution_count": 96,
     "metadata": {},
     "output_type": "execute_result"
    }
   ],
   "source": [
    "test_object._protected_method()   # Защищённый метод остался защищённым"
   ]
  },
  {
   "cell_type": "code",
   "execution_count": 97,
   "id": "71d51e6e-62b5-4440-af3e-75088761b1bf",
   "metadata": {},
   "outputs": [],
   "source": [
    "test_object.__dunder_method__()   # Дандер метод не изменился"
   ]
  },
  {
   "cell_type": "code",
   "execution_count": 98,
   "id": "a97cf0c4-4881-441c-83b6-ef8955377585",
   "metadata": {},
   "outputs": [
    {
     "data": {
      "text/plain": [
       "(False, False)"
      ]
     },
     "execution_count": 98,
     "metadata": {},
     "output_type": "execute_result"
    }
   ],
   "source": [
    "hasattr(test_object, \"public_method\"), hasattr(test_object, \"private\")   # Изначальные варианты изменённых методов не сохраняются"
   ]
  },
  {
   "cell_type": "markdown",
   "id": "31ad0bdd-9a24-4d6c-a499-e975b4b6acdd",
   "metadata": {},
   "source": [
    "# Задание 5 (7 баллов)"
   ]
  },
  {
   "cell_type": "markdown",
   "id": "68c75d25-37f7-491d-bcc0-ba74e8bdb364",
   "metadata": {},
   "source": [
    "Напишите [контекстный менеджер](https://docs.python.org/3/library/stdtypes.html#context-manager-types) `OpenFasta`\n",
    "\n",
    "Контекстные менеджеры это специальные объекты, которые могут работать с конструкцией `with ... as ...:`. В них нет ничего сложного, для их реализации как обычно нужно только определить только пару dunder методов. Изучите этот вопрос самостоятельно\n",
    "\n",
    "1. Объект должен работать как обычные файлы в питоне (наследоваться не надо, здесь лучше будет использовать **композицию**), но:\n",
    "    + При итерации по объекту мы должны будем получать не строку из файла, а специальный объект `FastaRecord`. Он будет хранить в себе информацию о последовательности. Важно, **не строки, а именно последовательности**, в fasta файлах последовательность часто разбивают на много строк\n",
    "    + Нужно написать методы `read_record` и `read_records`, которые по смыслу соответствуют `readline()` и `readlines()` в обычных файлах, но они должны выдавать не строки, а объект(ы) `FastaRecord`\n",
    "2. Конструктор должен принимать один аргумент - **путь к файлу**\n",
    "3. Класс должен эффективно распоряжаться памятью, с расчётом на работу с очень большими файлами\n",
    "    \n",
    "Объект `FastaRecord`. Это должен быть **датакласс** (см. про примеры декораторов в соответствующей лекции) с тремя полями:\n",
    "+ `seq` - последовательность\n",
    "+ `id_` - ID последовательности (это то, что в фаста файле в строке, которая начинается с `>` до первого пробела. Например, >**GTD326487.1** Species anonymous 24 chromosome) \n",
    "+ `description` - то, что осталось после ID (Например, >GTD326487.1 **Species anonymous 24 chromosome**)\n",
    "\n",
    "\n",
    "Напишите демонстрацию работы кода с использованием всех написанных методов, обязательно добавьте файл с тестовыми данными в репозиторий (не обязательно большой)\n",
    "\n",
    "**Можно использовать модули из стандартной библиотеки**"
   ]
  },
  {
   "cell_type": "code",
   "execution_count": 640,
   "id": "c00757e4-f502-494c-8221-0a8880dab25b",
   "metadata": {},
   "outputs": [],
   "source": [
    "import os\n",
    "from dataclasses import dataclass\n",
    "\n",
    "\n",
    "@dataclass\n",
    "class FastaRecord:\n",
    "    id : str\n",
    "    description : str\n",
    "    seq : str\n",
    "\n",
    "class OpenFasta():\n",
    "    \n",
    "    leading_line = None     #keep line determining start of new sequence\n",
    "    \n",
    "    def __init__(self, path):\n",
    "        self.file_path = path\n",
    "        \n",
    "    def __enter__(self):\n",
    "        self.opened_file = open(self.file_path)\n",
    "        return self\n",
    "    \n",
    "    def __exit__(self, exc_type, exc_value, traceback):\n",
    "        self.opened_file.close()\n",
    "                \n",
    "    def __iter__(self):\n",
    "        return self\n",
    "\n",
    "    def read_record(self):\n",
    "        \n",
    "        #processing the first line of the sequence (but not the first line of the file), creating future key attributes ща FastaRecord\n",
    "        if self.leading_line is not None and self.leading_line.startswith('>'):     \n",
    "            current_id = self.leading_line.split(' ')[0]\n",
    "            current_desc = ' '.join(self.leading_line.split(' ')[1:])\n",
    "            current_seq = str()\n",
    "        \n",
    "        for record in self.opened_file:\n",
    "            reading_process = record.strip()\n",
    "            if reading_process.startswith('>'):                 #processing the first line of the sequence \n",
    "                try:                                            #allow to process even in start of file\n",
    "                    previous_id, previous_desc, previous_seq = current_id, current_desc, current_seq\n",
    "                    self.leading_line = reading_process\n",
    "                    return FastaRecord(id=previous_id, description=previous_desc, seq=previous_seq)\n",
    "                except:\n",
    "                    pass\n",
    "                \n",
    "                current_id = reading_process.split(' ')[0]\n",
    "                current_desc = ' '.join(reading_process.split(' ')[1:])\n",
    "                current_seq = str()\n",
    "                \n",
    "            else:               \n",
    "                current_seq += reading_process                  #for all part of sequence\n",
    "                \n",
    "        else:\n",
    "            return FastaRecord(id=current_id, description=current_desc, seq=current_seq)\n",
    "            self.marker = False\n",
    "            print(current_id, current_desc, current_seq)\n",
    "    \n",
    "    #not the optimal code for reading the entire file (good options fell with errors)\n",
    "    def read_records(self):\n",
    "        result = self.read_record()\n",
    "        fasta_data = [result]\n",
    "        while result.seq != '':\n",
    "            result = self.read_record()\n",
    "            fasta_data.append(result)\n",
    "        return fasta_data[:-1]"
   ]
  },
  {
   "cell_type": "markdown",
   "id": "3dd90528-1a36-4b7c-841b-fc7085cf13f0",
   "metadata": {},
   "source": [
    "##### Читаем всю fasta"
   ]
  },
  {
   "cell_type": "code",
   "execution_count": 633,
   "id": "022bc025-622a-4c70-8c6f-dbe39460ffee",
   "metadata": {},
   "outputs": [
    {
     "name": "stdout",
     "output_type": "stream",
     "text": [
      "[FastaRecord(id='>P17727.2', description='RecName: Full=Mu-ctenitoxin-Pn1a; Short=Mu-CNTX-Pn1a; AltName: Full=Toxin Tx1; Short=PNTx1; Short=PhTx1; Flags: Precursor [Phoneutria nigriventer]', seq='MKLLGIFLVASFAFVLSFGEEMIEGENPLEDQRAELTSCFPVGHECDGDASNCNCCGDDVYCGCGWGRWNCKCKVADQSYAYGICKDKVNCPNRHLWPAKVCKKPCRRNCGG'), FastaRecord(id='>QJW70914.1', description='mu-ctenitoxin-Pn1a [Phoneutria nigriventer]', seq='MKLLGIFLVASFAFVLSFGEEMIEGENPLEDQRAELTSCFPVGHECDGDARNCNCCGDDVYCGCGWGRWNCKCKVADQSYAYGICKDKVNCPNRHLWPAKVCKKPCRRNCGG'), FastaRecord(id='>P84062.2', description='RecName: Full=U5-ctenitoxin-Pk1a; Short=U5-CNTX-Pk1a; AltName: Full=Neurotoxin PKTx15C1; AltName: Full=Neurotoxin PKTx1A [Phoneutria keyserlingi]', seq='AELKSCFPVGHECDDDASNCNCCGDDVYCACGWGRWNCKCKVADQSYAYGICKDKVNCPNRHLWPAKECKMPCRRNCG'), FastaRecord(id='>KAF4362835.1', description='hypothetical protein F8388_022492 [Cannabis sativa]', seq='MSLSVEKTTAGREYKVRDLSQADFGRLEIELAEVEMPGLVSCRTEFGPSQPFKGARITDRCSIETLTALGAEVRWCSSNIFSTQDQAAAAIARDSAAVFCLERCGCGWGRWVGAGVGLGLAGVSSRDVVVYLN')]\n"
     ]
    }
   ],
   "source": [
    "with OpenFasta(os.path.join(\"fasta_file\", \"seqdump.fasta\")) as fasta:\n",
    "    print(fasta.read_records())"
   ]
  },
  {
   "cell_type": "markdown",
   "id": "fc1b31ab-ee75-4299-bf52-b74a47d32882",
   "metadata": {},
   "source": [
    "##### Читаем отдельные последовательности"
   ]
  },
  {
   "cell_type": "code",
   "execution_count": 642,
   "id": "79be4fe2-844c-449c-94ff-cc57fad2136e",
   "metadata": {},
   "outputs": [
    {
     "name": "stdout",
     "output_type": "stream",
     "text": [
      "FastaRecord(id='>P17727.2', description='RecName: Full=Mu-ctenitoxin-Pn1a; Short=Mu-CNTX-Pn1a; AltName: Full=Toxin Tx1; Short=PNTx1; Short=PhTx1; Flags: Precursor [Phoneutria nigriventer]', seq='MKLLGIFLVASFAFVLSFGEEMIEGENPLEDQRAELTSCFPVGHECDGDASNCNCCGDDVYCGCGWGRWNCKCKVADQSYAYGICKDKVNCPNRHLWPAKVCKKPCRRNCGG')\n",
      "FastaRecord(id='>QJW70914.1', description='mu-ctenitoxin-Pn1a [Phoneutria nigriventer]', seq='MKLLGIFLVASFAFVLSFGEEMIEGENPLEDQRAELTSCFPVGHECDGDARNCNCCGDDVYCGCGWGRWNCKCKVADQSYAYGICKDKVNCPNRHLWPAKVCKKPCRRNCGG')\n",
      "FastaRecord(id='>P84062.2', description='RecName: Full=U5-ctenitoxin-Pk1a; Short=U5-CNTX-Pk1a; AltName: Full=Neurotoxin PKTx15C1; AltName: Full=Neurotoxin PKTx1A [Phoneutria keyserlingi]', seq='AELKSCFPVGHECDDDASNCNCCGDDVYCACGWGRWNCKCKVADQSYAYGICKDKVNCPNRHLWPAKECKMPCRRNCG')\n"
     ]
    }
   ],
   "source": [
    "with OpenFasta(os.path.join(\"fasta_file\", \"seqdump.fasta\")) as fasta:\n",
    "    print(fasta.read_record())\n",
    "    print(fasta.read_record())\n",
    "    print(fasta.read_record())"
   ]
  },
  {
   "cell_type": "markdown",
   "id": "ea55a8a4-772a-43bf-91da-6ed602620b20",
   "metadata": {},
   "source": [
    "##### Другой файл, где нет описаний к сиквенсам"
   ]
  },
  {
   "cell_type": "code",
   "execution_count": 636,
   "id": "3c216d6d-f4b8-4b8f-b846-eeede600524b",
   "metadata": {},
   "outputs": [
    {
     "name": "stdout",
     "output_type": "stream",
     "text": [
      "FastaRecord(id='>seq1', description='', seq='cccaactaac acattatttt cccctcccac tcccatacta ctaatctcat caatacaaccccgcccatcc tacccacaca cacaccgctg ctaaccccat accccgaacc aaccaaaccccaaagacacc ccccacagtt tatgtagctt acctcctcaa agcaatacac tgaaaatgtttagacgggct cacatcaccc cataaacaaa taggtttggt cctagccttt ctattagctcttagtaagat tacacatgca agcatccccg ttccagtgag ttcaccctct aaatcaccacgatcaaaagg aacaagcatc aagcacgcag caatgcagct caaaacgctt agcctagccacacccccacg ggaaacagca gtgattaacc tttagcaata aacgaaagtt taactaagctatactaaccc cagggttggt caatttcgtg ccagccaccg cggtcacacg attaacccaagtcaatagaa gccggcgtaa agagtgtttt agatcacccc ctccccaata aagctaaaactcacctgagt tgtaaaaaac tccagttgac acaaaataga ctacgaaagt ggctttaacatatctgaaca cacaatagct aagacccaaa ctgggattag ataccccact atgcttagccctaaacctca acagttaaat caacaaaact gctcgccaga acactacgag ccacagcttaaaactcaaag gacctggcgg tgcttcatat ccctctagag gagcctgttc tgtaatcgataaaccccgat caacctcacc acctcttgct cagcctatat accgccatct tcagcaaaccctgatgaagg ctacaaagta agcgcaagta cccacgtaaa gacgttaggt caaggtgtagcccatgaggt ggcaagaaat gggctacatt ttctacccca gaaaactacg atagcccttatgaaacttaa gggtcgaagg tggatttagc agtaaactga gagtagagtg cttagttgaacagggccctg aagcgcgtac acaccgcccg tcaccctcct caagtatact tcaaaggacatttaactaaa acccctacgc atttatatag aggagacaag tcgtaacatg gtaagtgtactggaaagtgc acttggacga accagagtgt agcttaacac aaagcaccca acttacacttaggagatttc aacttaactt gaccgctctg agctaaacct agccccaaac ccactccaccttactaccag acaaccttag ccaaaccatt tacccaaata aagtataggc gatagaaattgaaacctggc gcaatagata tagtaccgca agggaaagat gaaaaattat aaccaagcataatatagcaa ggactaaccc ctataccttc tgcataatga attaactaga aataactttgcaaggagagc caaagctaag acccccgaaa ccagacgagc tacctaagaa cagctaaaagagcacacccg tctatgtagc aaaatagtgg gaagatttat aggtagaggc gacaaacctatcgagcctgg tgatagctgg ttgtccaaga tagaatctta gttcaacttt aaatttgcccacagaaccct ctaaatcccc ttgtaaattt aactgttagt ccaaagagga acagctctttggacactagg aaaaaacctt gtaaaaaatt taacacccat agtaggccta aaagcagccaccaattaaga aagcgttcaa gctcaacacc cactacctaa aaaatcccaa acatataactgaactcctca cacccaattg gaccaatcta tcaccctata gaagaactaa tgttagtataagtaacatga aaacattctc ctccgcataa gcctgcgtca gatcaaaaca ctgaactgacaattaacagc ccaatatcta caatcaccaa caagtcatta ttaccctcac tgtcaacccaacacaggcat gctcataagg aaaggttaaa aaaagtaaaa ggaactcggc aaatcttaccccgcctgttt accaaaaaca tcacctctag catcaccagt attagaggca ccgcctgcccagtgacacat gtttaacggc cgcggtaccc taaccgtgca aaggtagcat aatcacttgttccttaaata gggacctgta tgaatggctc cacgagggtt cagctgtctc ttacttttaaccagtgaaat tgacctgccc gtgaagaggc gggcatgaca cagcaagacg agaagaccctatggagcttt aatttattaa tgcaaacagt acctaacaaa cccacaggtc ctaaactaccaaacctgcat taaaaatttc ggttggggcg acctcggagc agaacccaac ctccgagcagtacatgctaa gacttcacca gtcaaagcga actactatac tcaattgatc caataacttgaccaacggaa caagttaccc tagggataac agcgcaatcc tattctagag tccatatcaacaatagggtt tacgacctcg atgttggatc aggacatccc gatggtgcag ccgctattaaaggttcgttt gttcaacgat taaagtccta cgtgatctga gttcagaccg gagtaatccaggtcggtttc tatctacttc aaattcctcc ctgtacgaaa ggacaagaga aataaggcctacttcacaaa gcgccttccc ccgtaaatga tatcatctca acttagtatt atacccacacccacccaaga acagggtttg ttaagatggc agagcccggt aatcgcataa aacttaaaactttacagtca gaggttcaat tcctcttctt aacaacatac ccatggccaa cctcctactcctcattgtac ccattctaat cgcaatggca ttcctaatgc ttaccgaacg aaaaattctaggctatatac aactacgcaa aggccccaac gttgtaggcc cctacgggct actacaacccttcgctgacg ccataaaact cttcaccaaa gagcccctaa aacccgccac atctaccatcaccctctaca tcaccgcccc gaccttagct ctcaccatcg ctcttctact atgaacccccctccccatac ccaaccccct ggtcaacctc aacctaggcc tcctatttat tctagccacctctagcctag ccgtttactc aatcctctga tcagggtgag catcaaactc aaactacgccctgatcggcg cactgcgagc agtagcccaa acaatctcat atgaagtcac cctagccatcattctactat caacattact aataagtggc tcctttaacc tctccaccct tatcacaacacaagaacacc tctgattact cctgccatca tgacccttgg ccataatatg atttatctccacactagcag agaccaaccg aacccccttc gaccttgccg aaggggagtc cgaactagtctcaggcttca acatcgaata cgccgcaggc cccttcgccc tattcttcat agccgaatacacaaacatta ttataataaa caccctcacc actacaatct tcctaggaac aacatatgacgcactctccc ctgaactcta cacaacatat tttgtcacca agaccctact tctaacctccctgttcttat gaattcgaac agcatacccc cgattccgct acgaccaact catacacctcctatgaaaaa acttcctacc actcacccta gcattactta tatgatatgt ctccatacccattacaatct ccagcattcc ccctcaaacc taagaaatat gtctgataaa agagttactttgatagagta aataatagga gcttaaaccc ccttatttct aggactatga gaatcgaacccatccctgag aatccaaaat tctccgtgcc acctatcaca ccccatccta aagtaaggtcagctaaataa gctatcgggc ccataccccg aaaatgttgg ttataccctt cccgtactaattaatcccct ggcccaaccc gtcatctact ctaccatctt tgcaggcaca ctcatcacagcgctaagctc gcactgattt tttacctgag taggcctaga aataaacatg ctagcttttattccagttct aaccaaaaaa ataaaccctc gttccacaga agctgccatc aagtatttcctcacacaagc aaccgcatcc ataatccttc taatagctat cctcttcaac aatatactctccggacaatg aaccataacc aatactacca atcaatactc atcattaata atcataatggctatagcaat aaaactagga atagccccct ttcacttctg agtcccagag gttacccaaggcacccctct gacatccggc ctgcttcttc tcacatgaca aaaactagcc cccatctcaatcatatacca aatctctccc tcactaaacg taagccttct cctcactctc tcaatcttatccatcatagc aggcagttga ggtggattaa accaaaccca gctacgcaaa atcttagcatactcctcaat tacccacata ggatgaataa tagcagttct accgtacaac cctaacataaccattcttaa tttaactatt tatattatcc taactactac cgcattccta ctactcaacttaaactccag caccacgacc ctactactat ctcgcacctg aaacaagcta acatgactaacacccttaat tccatccacc ctcctctccc taggaggcct gcccccgcta accggctttttgcccaaatg gaccattatc gaagaattca caaaaaacaa tagcctcatc atccccaccatcatagccac catcaccctc cttaacctct acttctacct acgcctaatc tactccacctcaatcacact actccccata tctaacaacg taaaaataaa atgacagttt gaacatacaaaacccacccc attcctcccc acactcatcg cccttaccac gctactccta cctatctccccttttatact aataatctta tagaaattta ggttaaatac agaccaagag ccttcaaagccctcagtaag ttgcaatact taatttctgt aacagctaag gactgcaaaa ccccactctgcatcaactga acgcaaatca gccactttaa ttaagctaag cccttactag accaatgggacttaaaccca caaacactta gttaacagct aagcacccta atcaactggc ttcaatctacttctcccgcc gccgggaaaa aaggcgggag aagccccggc aggtttgaag ctgcttcttcgaatttgcaa ttcaatatga aaatcacctc ggagctggta aaaagaggcc taacccctgtctttagattt acagtccaat gcttcactca gccattttac ctcaccccca ctgatgttcgccgaccgttg actattctct acaaaccaca aagacattgg aacactatac ctattattcggcgcatgagc tggagtccta ggcacagctc taagcctcct tattcgagcc gagctgggccagccaggcaa ccttctaggt aacgaccaca tctacaacgt tatcgtcaca gcccatgcatttgtaataat cttcttcata gtaataccca tcataatcgg aggctttggc aactgactagttcccctaat aatcggtgcc cccgatatgg cgtttccccg cataaacaac ataagcttctgactcttacc tccctctctc ctactcctgc tcgcatctgc tatagtggag gccggagcaggaacaggttg aacagtctac cctcccttag cagggaacta ctcccaccct ggagcctccgtagacctaac catcttctcc ttacacctag caggtgtctc ctctatctta ggggccatcaatttcatcac aacaattatc aatataaaac cccctgccat aacccaatac caaacgcccctcttcgtctg atccgtccta atcacagcag tcctacttct cctatctctc ccagtcctagctgctggcat caccatacta ctaacagacc gcaacctcaa caccaccttc ttcgaccccgccggaggagg agaccccatt ctataccaac acctattctg atttttcggt caccctgaagtttatattct tatcctacca ggcttcggaa taatctccca tattgtaact tactactccggaaaaaaaga accatttgga tacataggta tggtctgagc tatgatatca attggcttcctagggtttat cgtgtgagca caccatatat ttacagtagg aatagacgta gacacacgagcatatttcac ctccgctacc ataatcatcg ctatccccac cggcgtcaaa gtatttagctgactcgccac actccacgga agcaatatga aatgatctgc tgcagtgctc tgagccctaggattcatctt tcttttcacc gtaggtggcc tgactggcat tgtattagca aactcatcactagacatcgt actacacgac acgtactacg ttgtagctca cttccactat gtcctatcaataggagctgt atttgccatc ataggaggct tcattcactg atttccccta ttctcaggctacaccctaga ccaaacctac gccaaaatcc atttcactat catattcatc ggcgtaaatctaactttctt cccacaacac tttctcggcc tatccggaat gccccgacgt tactcggactaccccgatgc atacaccaca tgaaacatcc tatcatctgt aggctcattc atttctctaacagcagtaat attaataatt ttcatgattt gagaagcctt cgcttcgaag cgaaaagtcctaatagtaga agaaccctcc ataaacctgg agtgactata tggatgcccc ccaccctaccacacattcga agaacccgta tacataaaat ctagacaaaa aaggaaggaa tcgaaccccccaaagctggt ttcaagccaa ccccatggcc tccatgactt tttcaaaaag gtattagaaaaaccatttca taactttgtc aaagttaaat tataggctaa atcctatata tcttaatggcacatgcagcg caagtaggtc tacaagacgc tacttcccct atcatagaag agcttatcacctttcatgat cacgccctca taatcatttt ccttatctgc ttcctagtcc tgtatgcccttttcctaaca ctcacaacaa aactaactaa tactaacatc tcagacgctc aggaaatagaaaccgtctga actatcctgc ccgccatcat cctagtcctc atcgccctcc catccctacgcatcctttac ataacagacg aggtcaacga tccctccctt accatcaaat caattggccaccaatggtac tgaacctacg agtacaccga ctacggcgga ctaatcttca actcctacatacttccccca ttattcctag aaccaggcga cctgcgactc cttgacgttg acaatcgagtagtactcccg attgaagccc ccattcgtat aataattaca tcacaagacg tcttgcactcatgagctgtc cccacattag gcttaaaaac agatgcaatt cccggacgtc taaaccaaaccactttcacc gctacacgac cgggggtata ctacggtcaa tgctctgaaa tctgtggagcaaaccacagt ttcatgccca tcgtcctaga attaattccc ctaaaaatct ttgaaatagggcccgtattt accctatagc accccctcta gagcccactg taaagctaac ttagcattaaccttttaagt taaagattaa gagaaccaac acctctttac agtgaaatgc cccaactaaatactaccgta tggcccacca taattacccc catactcctt acactattcc tcatcacccaactaaaaata ttaaacacaa actaccacct acctccctca ccaaagccca taaaaataaaaaattataac aaaccctgag aaccaaaatg aacgaaaatc tgttcgcttc attcattgcccccacaatcc taggcctacc cgccgcagta ctgatcattc tatttccccc tctattgatccccacctcca aatatctcat caacaaccga ctaatcacca cccaacaatg actaatcaaactaacctcaa aacaaatgat agccatacac aacactaaag gacgaacctg atctcttatactagtatcct taatcatttt tattgccaca actaacctcc tcggactcct gcctcactcatttacaccaa ccacccaact atctataaac ctagccatgg ccatcccctt atgagcgggcgcagtgatta taggctttcg ctctaagatt aaaaatgccc tagcccactt cttaccacaaggcacaccta caccccttat ccccatacta gttattatcg aaaccatcag cctactcattcaaccaatag ccctggccgt acgcctaacc gctaacatta ctgcaggcca cctactcatgcacctaattg gaagcgccac cctagcaata tcaaccatta accttccctc tacacttatcatcttcacaa ttctaattct actgactatc ctagaaatcg ctgtcgcctt aatccaagcctacgttttca cacttctagt aagcctctac ctgcacgaca acacataatg acccaccaatcacatgccta tcatatagta aaacccagcc catgacccct aacaggggcc ctctcagccctcctaatgac ctccggccta gccatgtgat ttcacttcca ctccataacg ctcctcatactaggcctact aaccaacaca ctaaccatat accaatgatg gcgcgatgta acacgagaaagcacatacca aggccaccac acaccacctg tccaaaaagg ccttcgatac gggataatcctatttattac ctcagaagtt tttttcttcg caggattttt ctgagccttt taccactccagcctagcccc taccccccaa ctaggagggc actgaccccc aacaggcatc accccgctaaatcccctaga agtcccactc ctaaacacat ccgtattact cgcatcagga gtatcaatcacctgagctca ccatagtcta atagaaaaca accgaaacca aataattcaa gcactgcttattacaatttt actgggtctc tattttaccc tcctacaagc ctcagagtac ttcgagtctcccttcaccat ttccgacggc atctacggct caacattttt tgtagccaca ggcttccacggacttcacgt cattattggc tcaactttcc tcactatctg cttcatccgc caactaatatttcactttac atccaaacat cactttggct tcgaagccgc cgcctgatac tggcattttgtagatgtggt ttgactattt ctgtatgtct ccatctattg atgagggtct tactcttttagtataaatag taccgttaac ttccaattaa ctagttttga caacattcaa aaaagagtaataaacttcgc cttaatttta ataatcaaca ccctcctagc cttactacta ataattattacattttgact accacaactc aacggctaca tagaaaaatc caccccttac gagtgcggcttcgaccctat atcccccgcc cgcgtccctt tctccataaa attcttctta gtagctattaccttcttatt atttgatcta gaaattgccc tccttttacc cctaccatga gccctacaaacaactaacct gccactaata gttatgtcat ccctcttatt aatcatcatc ctagccctaagtctggccta tgagtgacta caaaaaggat tagactgagc cgaattggta tatagtttaaacaaaacgaa tgatttcgac tcattaaatt atgataatca tatttaccaa atgcccctcatttacataaa tattatacta gcatttacca tctcacttct aggaatacta gtatatcgctcacacctcat atcctcccta ctatgcctag aaggaataat actatcgctg ttcattatagctactctcat aaccctcaac acccactccc tcttagccaa tattgtgcct attgccatactagtcttcgc cgcctgcgaa gcagcggtgg gcctagccct actagtctca atctccaacacatatggcct agactacgta cataacctaa acctactcca atgctaaaac taatcgtcccaacaattata ttactaccac tgacatgact ttccaagaag cacataattt gaatcaacacaaccacccac agcctaatta ttagcatcat ccccctacta ttttttaacc aaatcaacaacaacctattt agctgttccc caaccttttc ctccgacccc ctaacaaccc ccctcctaatactaactacc tgactcctac ccctcacaat catggcaagc caacgccact tatccagtgaaccactatca cgaaaaaaac tctacctctc tatactaatc tccctacaaa tctccttaattataacattc acagccacag aactaatcat attttatatc ttcttcgaaa ccacacttatccccaccttg gctatcatca cccgatgagg caaccagcca gaacgcctga acgcaggcacatacttccta ttctacaccc tagtaggctc ccttccccta ctcatcgcac taatttacactcacaacacc ctaggctcac taaacattct actactcact ctcactgccc aagaactatcaaactcctga gccaacaact taatatgact agcttacaca atagctttta tagtaaagatacctctttac ggactccact tatgactccc taaagcccat gtcgaagccc ccatcgctgggtcaatagta cttgccgcag tactcttaaa actaggcggc tatggtataa tacgcctcacactcattctc aaccccctga caaaacacat agcctacccc ttccttgtac tatccctatgaggcataatt ataacaagct ccatctgcct acgacaaaca gacctaaaat cgctcattgcatactcttca atcagccaca tagccctcgt agtaacagcc attctcatcc aaaccccctgaagcttcacc ggcgcagtca ttctcataat cgcccacgga cttacatcct cattactattctgcctagca aactcaaact acgaacgcac tcacagtcgc atcataatcc tctctcaaggacttcaaact ctactcccac taatagcttt ttgatgactt ctagcaagcc tcgctaacctcgccttaccc cccactatta acctactggg agaactctct gtgctagtaa ccacgttctcctgatcaaat atcactctcc tacttacagg actcaacata ctagtcacag ccctatactccctctacata tttaccacaa cacaatgggg ctcactcacc caccacatta acaacataaaaccctcattc acacgagaaa acaccctcat gttcatacac ctatccccca ttctcctcctatccctcaac cccgacatca ttaccgggtt ttcctcttgt aaatatagtt taaccaaaacatcagattgt gaatctgaca acagaggctt acgacccctt atttaccgag aaagctcacaagaactgcta actcatgccc ccatgtctga caacatggct ttctcaactt ttaaaggataacagctatcc attggtctta ggccccaaaa attttggtgc aactccaaat aaaagtaataaccatgcaca ctactataac caccctaacc ctgacttccc taattccccc catccttaccaccctcgtta accctaacaa aaaaaactca tacccccatt atgtaaaatc cattgtcgcatccaccttta ttatcagtct cttccccaca acaatattca tgtgcctaga ccaagaagttattatctcga actgacactg agccacaacc caaacaaccc agctctccct aagcttcaaactagactact tctccataat attcatccct gtagcattgt tcgttacatg gtccatcatagaattctcac tgtgatatat aaactcagac ccaaacatta atcagttctt caaatatctactcattttcc taattaccat actaatctta gttaccgcta acaacctatt ccaactgttcatcggctgag agggcgtagg aattatatcc ttcttgctca tcagttgatg atacgcccgagcagatgcca acacagcagc cattcaagca atcctataca accgtatcgg cgatatcggtttcatcctcg ccttagcatg atttatccta cactccaact catgagaccc acaacaaatagcccttctaa acgctaatcc aagcctcacc ccactactag gcctcctcct agcagcagcaggcaaatcag cccaattagg tctccacccc tgactcccct cagccataga aggccccaccccagtctcag ccctactcca ctcaagcact atagttgtag ccggaatctt cttactcatccgcttccacc ccctagcaga aaatagccca ctaatccaaa ctctaacact atgcttaggcgctatcacca ctctgtttgc agcagtctgc gcccttacac aaaatgacat caaaaaaatcgtagccttct ccacttcaag tcaactagga ctcataatag ttacaatcgg catcaaccaaccacacctag cattcctgca catctgtacc cacgccttct tcaaagccat actatttatgtgctccgggt ccatcatcca caaccttaac aatgaacaag atattcgaaa aataggaggactactcaaaa ccatacctct cacttcaacc tccctcacca ttggcagcct agcattagcaggaatacctt tcctcacagg tttctactcc aaagaccaca tcatcgaaac cgcaaacatatcatacacaa acgcctgagc cctatctatt actctcatcg ctacctccct gacaagcgcctatagcactc gaataattct tctcacccta acaggtcaac ctcgcttccc cgcccttactaacattaacg aaaataaccc caccctacta aaccccatta aacgcctggc agccggaagcctattcgcag gatttctcat tactaacaac atttcccccg catccccctt ccaaacaacaatccccctct acctaaaact cacagccctc gctgtcactt tcctaggact tctaacagccctagacctca actacctaac caacaaactt aaaataaaat ccccactatg cacattttatttctccaaca tactcggatt ctaccctagc atcacacacc gcacaatccc ctatctaggccttcttacga gccaaaacct gcccctactc ctcctagacc taacctgact agaaaagctattacctaaaa caatttcaca gcaccaaatc tccacctcca tcatcacctc aacccaaaaaggcataatta aactttactt cctctctttc ttcttcccac tcatcctaac cctactcctaatcacataac ctattccccc gagcaatctc aattacaata tatacaccaa caaacaatgttcaaccagta accactacta atcaacgccc ataatcatac aaagcccccg caccaataggatcctcccga atcaaccctg acccctctcc ttcataaatt attcagcttc ctacactattaaagtttacc acaaccacca ccccatcata ctctttcacc cacagcacca atcctacctccatcgctaac cccactaaaa cactcaccaa gacctcaacc cctgaccccc atgcctcaggatactcctca atagccatcg ctgtagtata tccaaagaca accatcattc cccctaaataaattaaaaaa actattaaac ccatataacc tcccccaaaa ttcagaataa taacacacccgaccacaccg ctaacaatca atactaaacc cccataaata ggagaaggct tagaagaaaaccccacaaac cccattacta aacccacact caacagaaac aaagcataca tcattattctcgcacggact acaaccacga ccaatgatat gaaaaaccat cgttgtattt caactacaagaacaccaatg accccaatac gcaaaattaa ccccctaata aaattaatta accactcattcatcgacctc cccaccccat ccaacatctc cgcatgatga aacttcggct cactccttggcgcctgcctg atcctccaaa tcaccacagg actattccta gccatgcact actcaccagacgcctcaacc gccttttcat caatcgccca catcactcga gacgtaaatt atggctgaatcatccgctac cttcacgcca atggcgcctc aatattcttt atctgcctct tcctacacatcgggcgaggc ctatattacg gatcatttct ctactcagaa acctgaaaca tcggcattatcctcctgctt gcaactatag caacagcctt cataggctat gtcctcccgt gaggccaaatatcattctga ggggccacag taattacaaa cttactatcc gccatcccat acattgggacagacctagtt caatgaatct gaggaggcta ctcagtagac agtcccaccc tcacacgattctttaccttt cacttcatct tacccttcat tattgcagcc ctagcagcac tccacctcctattcttgcac gaaacgggat caaacaaccc cctaggaatc acctcccatt ccgataaaatcaccttccac ccttactaca caatcaaaga cgccctcggc ttacttctct tccttctctccttaatgaca ttaacactat tctcaccaga cctcctaggc gacccagaca attataccctagccaacccc ttaaacaccc ctccccacat caagcccgaa tgatatttcc tattcgcctacacaattctc cgatccgtcc ctaacaaact aggaggcgtc cttgccctat tactatccatcctcatccta gcaataatcc ccatcctcca tatatccaaa caacaaagca taatatttcgcccactaagc caatcacttt attgactcct agccgcagac ctcctcattc taacctgaatcggaggacaa ccagtaagct acccttttac catcattgga caagtagcat ccatactatacttcacaaca atcctaatcc taataccaac tatctcccta attgaaaaca aaatactcaaatgggcctgt ccttgtagta taaactaata caccagtctt gtaaaccgga gatgaaaacctttccaagga caaatcagag aaaaagtctt taactccacc attagcaccc aaagctaagattctaattta aactattctc')\n"
     ]
    }
   ],
   "source": [
    "with OpenFasta(os.path.join(\"fasta_file\", \"sequences.fasta\")) as fasta:\n",
    "    print(fasta.read_record())"
   ]
  },
  {
   "cell_type": "markdown",
   "id": "3e88c7e1-1291-46d7-bba5-f8c8d5c597eb",
   "metadata": {},
   "source": [
    "> Из минусов класса будет продолжать выводить FastaRecord при вызове read_record даже если записей уже нет"
   ]
  },
  {
   "cell_type": "markdown",
   "id": "4db652e9-7697-4dd7-bcc3-649bdc18c1c4",
   "metadata": {},
   "source": [
    "# Задание 6 (7 баллов)"
   ]
  },
  {
   "cell_type": "markdown",
   "id": "a8ba05f3-29f0-48be-a477-c1f61a9e0537",
   "metadata": {},
   "source": [
    "1. Напишите код, который позволит получать все возможные (неуникальные) генотипы при скрещивании двух организмов. Это может быть функция или класс, что вам кажется более удобным.\n",
    "\n",
    "Например, все возможные исходы скрещивания \"Aabb\" и \"Aabb\" (неуникальные) это\n",
    "\n",
    "```\n",
    "AAbb\n",
    "AAbb\n",
    "AAbb\n",
    "AAbb\n",
    "Aabb\n",
    "Aabb\n",
    "Aabb\n",
    "Aabb\n",
    "Aabb\n",
    "Aabb\n",
    "Aabb\n",
    "Aabb\n",
    "aabb\n",
    "aabb\n",
    "aabb\n",
    "aabb\n",
    "```\n",
    "\n",
    "2. Напишите функцию, которая вычисляет вероятность появления определённого генотипа (его ожидаемую долю в потомстве).\n",
    "Например,\n",
    "\n",
    "```python\n",
    "get_offspting_genotype_probability(parent1=\"Aabb\", parent2=\"Aabb\", target_genotype=\"Аabb\")   # 0.5\n",
    "\n",
    "```\n",
    "\n",
    "3. Напишите код, который выводит все уникальные генотипы при скрещивании `'АаБбввГгДдЕеЖжЗзИиЙйккЛлМмНн'` и `'АаббВвГгДДЕеЖжЗзИиЙйКкЛлМмНН'`, которые содержат в себе следующую комбинацию аллелей `'АаБбВвГгДдЕеЖжЗзИиЙйКкЛл'`\n",
    "4. Напишите код, который расчитывает вероятность появления генотипа `'АаБбввГгДдЕеЖжЗзИиЙйккЛлМмНн'` при скрещивании `АаБбВвГгДдЕеЖжЗзИиЙйКкЛлМмНн` и `АаБбВвГгДдЕеЖжЗзИиЙйКкЛлМмНн`\n",
    "\n",
    "Важные замечания:\n",
    "1. Порядок следования аллелей в случае гетерозигот всегда должен быть следующим: сначала большая буква, затем маленькая (вариант `AaBb` допустим, но `aAbB` быть не должно)\n",
    "2. Подзадачи 3 и 4 могут потребовать много вычислительного времени (до 15+ минут в зависимости от железа), поэтому убедитесь, что вы хорошо протестировали написанный вами код на малых данных перед выполнением этих задач. Если ваш код работает **дольше 20 мин**, то скорее всего ваше решение не оптимально, попытайтесь что-нибудь оптимизировать. Если оптимальное решение совсем не получается, то попробуйте из входных данных во всех заданиях убрать последний ген (это должно уменьшить время выполнения примерно в 4 раза), но **за такое решение будет снято 2 балла**\n",
    "3. Несмотря на то, что подзадания 2, 3 и 4 возможно решить математически, не прибегая к непосредственному получению всех возможных генотипов, от вас требуется именно brute-force вариант алгоритма\n",
    "\n",
    "**Можно использовать модули из стандартной библиотеки питона**, но **за выполнение задания без использования модулей придусмотрено +3 дополнительных балла**"
   ]
  },
  {
   "cell_type": "code",
   "execution_count": 643,
   "id": "c64841e9-dfcd-45bb-bcaa-d672ea03a744",
   "metadata": {
    "tags": []
   },
   "outputs": [
    {
     "name": "stdout",
     "output_type": "stream",
     "text": [
      "AABbCC\n",
      "AABbCc\n",
      "AABbCC\n",
      "AABbCc\n",
      "AABbCC\n",
      "AABbCc\n",
      "AABbCC\n",
      "AABbCc\n",
      "AAbbCC\n",
      "AAbbCc\n",
      "AAbbCC\n",
      "AAbbCc\n",
      "AAbbCC\n",
      "AAbbCc\n",
      "AAbbCC\n",
      "AAbbCc\n",
      "AaBbCC\n",
      "AaBbCc\n",
      "AaBbCC\n",
      "AaBbCc\n",
      "AaBbCC\n",
      "AaBbCc\n",
      "AaBbCC\n",
      "AaBbCc\n",
      "AabbCC\n",
      "AabbCc\n",
      "AabbCC\n",
      "AabbCc\n",
      "AabbCC\n",
      "AabbCc\n",
      "AabbCC\n",
      "AabbCc\n",
      "AaBbCC\n",
      "AaBbCc\n",
      "AaBbCC\n",
      "AaBbCc\n",
      "AaBbCC\n",
      "AaBbCc\n",
      "AaBbCC\n",
      "AaBbCc\n",
      "AabbCC\n",
      "AabbCc\n",
      "AabbCC\n",
      "AabbCc\n",
      "AabbCC\n",
      "AabbCc\n",
      "AabbCC\n",
      "AabbCc\n",
      "aaBbCC\n",
      "aaBbCc\n",
      "aaBbCC\n",
      "aaBbCc\n",
      "aaBbCC\n",
      "aaBbCc\n",
      "aaBbCC\n",
      "aaBbCc\n",
      "aabbCC\n",
      "aabbCc\n",
      "aabbCC\n",
      "aabbCc\n",
      "aabbCC\n",
      "aabbCc\n",
      "aabbCC\n",
      "aabbCc\n"
     ]
    }
   ],
   "source": [
    "# Ваш код здесь (1 и 2 подзадание)\n",
    "import itertools\n",
    "\n",
    "#function combine combination and part of probability function via parametr auxilary\n",
    "def hybridisation(genotype_1, genotype_2, auxilary = False):\n",
    "    genotype = []\n",
    "    for window in range(0, len(genotype_1), 2):\n",
    "        options = []\n",
    "        for i in itertools.product(genotype_1[window: window + 2], genotype_2[window: window + 2]):\n",
    "            options.append(sorted(list(i)))\n",
    "        genotype.append(options)\n",
    "    \n",
    "    result_list = []\n",
    "    for gene in itertools.product(*genotype):\n",
    "        result = ''.join(map(lambda x: ''.join(x),  gene))\n",
    "        result_list.append(result)\n",
    "        if not auxilary:\n",
    "            print(result)\n",
    "            \n",
    "    if auxilary:\n",
    "        return result_list\n",
    "        \n",
    "        \n",
    "\n",
    "hybridisation(\"AaBbCC\", \"AabbCc\")"
   ]
  },
  {
   "cell_type": "code",
   "execution_count": 644,
   "id": "55b3b10b-dfef-4117-932e-190d7ea9826e",
   "metadata": {},
   "outputs": [
    {
     "data": {
      "text/plain": [
       "0.5"
      ]
     },
     "execution_count": 644,
     "metadata": {},
     "output_type": "execute_result"
    }
   ],
   "source": [
    "def get_offspting_genotype_probability(parent1, parent2, target_genotype):\n",
    "    all_result = hybridisation(parent1, parent2, auxilary=True)\n",
    "    return all_result.count(target_genotype) / len(all_result)\n",
    "\n",
    "get_offspting_genotype_probability(\"Aabb\", \"Aabb\", \"Aabb\")"
   ]
  },
  {
   "cell_type": "markdown",
   "id": "a2fe306e-1ce1-4f07-b356-e095223dd59a",
   "metadata": {},
   "source": [
    "###### Вроде перебор всех вариантов, но, как мне теперь кажется, не совсем брут-форс. Но чистый брутфорс ноут совсе не вывозил"
   ]
  },
  {
   "cell_type": "code",
   "execution_count": 94,
   "id": "fdfb6d8c-0da7-4857-9579-6921dc409eb3",
   "metadata": {
    "tags": []
   },
   "outputs": [
    {
     "name": "stdout",
     "output_type": "stream",
     "text": [
      "АаБбВвГгДдЕеЖжЗзИиЙйКкЛлММНН\n",
      "АаБбВвГгДдЕеЖжЗзИиЙйКкЛлММНн\n",
      "АаБбВвГгДдЕеЖжЗзИиЙйКкЛлМмНН\n",
      "АаБбВвГгДдЕеЖжЗзИиЙйКкЛлМмНн\n",
      "АаБбВвГгДдЕеЖжЗзИиЙйКкЛлммНН\n",
      "АаБбВвГгДдЕеЖжЗзИиЙйКкЛлммНн\n",
      "CPU times: total: 0 ns\n",
      "Wall time: 1.01 ms\n"
     ]
    }
   ],
   "source": [
    "%%time\n",
    "# Ваш код здесь (3 подзадание)\n",
    "import numpy as np\n",
    "\n",
    "def complex_hybridisation(genotype_1, genotype_2, target_genotype):\n",
    "    assembly_genotype = []\n",
    "    \n",
    "    #collect all options of hybridisation of separated genes \n",
    "    for window in range(0, len(genotype_1), 2):\n",
    "        options = []\n",
    "        for i in itertools.product(genotype_1[window: window + 2], genotype_2[window: window + 2]):\n",
    "            options.append(sorted(list(i)))\n",
    "        assembly_genotype.append(options)\n",
    "\n",
    "    #divide target by gene\n",
    "    divide_target = []\n",
    "    for window in range(0, len(target_genotype), 2):   \n",
    "        divide_target.append([target_genotype[window], target_genotype[window+1]])\n",
    "\n",
    "    genotype_copy = assembly_genotype.copy()\n",
    "    result = []\n",
    "    str_reference_genotype = str()\n",
    "    \n",
    "    #check target genes, delete them from collection and combine free part\n",
    "    for number, list_of_allel in enumerate(genotype_copy):\n",
    "        try:\n",
    "            str_reference_genotype += ''.join(divide_target[number])\n",
    "            assembly_genotype.remove(list_of_allel)\n",
    "        except IndexError:\n",
    "            for gene in itertools.product(*assembly_genotype):\n",
    "                variant = ''.join(map(lambda x: ''.join(x),  gene))\n",
    "                result.append(variant)\n",
    "            \n",
    "    output = list(map(lambda x: str_reference_genotype + x, np.unique(result)))\n",
    "    print(*output, sep='\\n')\n",
    "        \n",
    "        \n",
    "\n",
    "complex_hybridisation('АаБбввГгДдЕеЖжЗзИиЙйккЛлМмНн', 'АаббВвГгДДЕеЖжЗзИиЙйКкЛлМмНН', 'АаБбВвГгДдЕеЖжЗзИиЙйКкЛл')"
   ]
  },
  {
   "cell_type": "code",
   "execution_count": 100,
   "id": "3e8a17cc-0642-49ae-ba6b-51ab5499660e",
   "metadata": {},
   "outputs": [
    {
     "data": {
      "text/plain": [
       "1.52587890625e-05"
      ]
     },
     "execution_count": 100,
     "metadata": {},
     "output_type": "execute_result"
    }
   ],
   "source": [
    "# Ваш код здесь (4 подзадание)\n",
    "\n",
    "def calculate_special_hybridisation(genotype_1, genotype_2, target_genotype):\n",
    "    assembly_genotype = []\n",
    "    for window in range(0, len(genotype_1), 2):\n",
    "        options = []\n",
    "        for i in itertools.product(genotype_1[window: window + 2], genotype_2[window: window + 2]):\n",
    "            options.append(sorted(list(i)))\n",
    "        assembly_genotype.append(options)\n",
    "\n",
    "    divide_target = []\n",
    "    for window in range(0, len(target_genotype), 2):   \n",
    "        divide_target.append([target_genotype[window], target_genotype[window+1]])\n",
    "\n",
    "    probability = 1\n",
    "    for number, list_of_allel in enumerate(assembly_genotype):\n",
    "        probability *= list_of_allel.count(divide_target[number]) / len(list_of_allel)\n",
    "        \n",
    "    return probability\n",
    "\n",
    "calculate_special_hybridisation('АаБбВвГгДдЕеЖжЗзИиЙйКкЛлМмНн','АаБбВвГгДдЕеЖжЗзИиЙйКкЛлМмНн', 'АаБбввГгДдЕеЖжЗзИиЙйккЛлМмНн')"
   ]
  }
 ],
 "metadata": {
  "kernelspec": {
   "display_name": "Python 3 (ipykernel)",
   "language": "python",
   "name": "python3"
  },
  "language_info": {
   "codemirror_mode": {
    "name": "ipython",
    "version": 3
   },
   "file_extension": ".py",
   "mimetype": "text/x-python",
   "name": "python",
   "nbconvert_exporter": "python",
   "pygments_lexer": "ipython3",
   "version": "3.9.12"
  }
 },
 "nbformat": 4,
 "nbformat_minor": 5
}
